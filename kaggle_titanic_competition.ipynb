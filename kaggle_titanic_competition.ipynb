{
 "cells": [
  {
   "cell_type": "markdown",
   "id": "674741f9",
   "metadata": {},
   "source": [
    "<h1><center>Titanic Survivors</center></h1>\n",
    "\n",
    "The following notebook is a simple solution to solve the Titanic survivor problem. Simply put we use data provided from the ill-fated Titanic voyage and attempt to predict who would survive and who would die.\n"
   ]
  },
  {
   "cell_type": "markdown",
   "id": "258d6be4",
   "metadata": {
    "ExecuteTime": {
     "end_time": "2022-06-25T13:15:35.078520Z",
     "start_time": "2022-06-25T13:15:35.068804Z"
    }
   },
   "source": [
    "\n",
    "## Data Dictionary\n",
    "\n",
    "__Survival:__ (Did they survive?) 0 = No, 1 = Yes\n",
    "\n",
    "__Pclass:__ (Ticket class) = 1st, 2 = 2nd, 3 = 3rd\n",
    "\n",
    "__Sex:__ (Gender)\n",
    "\n",
    "__Age:__ Age in years\n",
    "\n",
    "__SibSp:__ Number of siblings / spouses aboard the Titanic\n",
    "\n",
    "__Parch:__ Number of parents / children aboard the Titanic\n",
    "\n",
    "__Ticket:__ The ticket number\n",
    "\n",
    "__Fare:__ Passenger price fare\n",
    "\n",
    "__Cabin:__ Cabin number\n",
    "\n",
    "__Embarked:__ Port of Embarkation C = Cherbourg, Q = Queenstown, S = Southampton\n",
    "\n",
    "\n",
    "## Solution Overview\n",
    "\n",
    "Keras / Tensorflow will be used to create a simple neural network that can be trained to understand the data and perform predictions. This notebook will also be a line-by-line explanation of the code so that the code is easier to follow.\n",
    "\n",
    "## Presumed Knowledge\n",
    "There is some presumed knowledge of:\n",
    "<ul>\n",
    "    <li>Python 3+</li>\n",
    "    <li>Neural Networks</li>\n",
    "    <li>Keras / Tensorflow</li>\n",
    "</ul>\n"
   ]
  },
  {
   "cell_type": "markdown",
   "id": "46489d04",
   "metadata": {},
   "source": [
    "<h1><center>Introduction and Data Analysis</center></h1>\n",
    "\n"
   ]
  },
  {
   "cell_type": "code",
   "execution_count": 18,
   "id": "5f564c35",
   "metadata": {
    "ExecuteTime": {
     "end_time": "2022-06-25T12:30:43.587955Z",
     "start_time": "2022-06-25T12:30:43.583492Z"
    },
    "cell_style": "center",
    "code_folding": []
   },
   "outputs": [],
   "source": [
    "#Importing usual suspects\n",
    "import pandas as pd # LIbrary to help load and explore data\n",
    "import numpy as np # Library for mathematical functions and support for arrays and matrices\n",
    "\n",
    "#The following 2 lines are basically a config option to allow the cells in the notebook \n",
    "#to print all interactive input and not just the last one.\n",
    "from IPython.core.interactiveshell import InteractiveShell \n",
    "InteractiveShell.ast_node_interactivity=\"all\""
   ]
  },
  {
   "cell_type": "code",
   "execution_count": 19,
   "id": "3ac1a2ed",
   "metadata": {
    "ExecuteTime": {
     "end_time": "2022-06-25T12:30:43.968649Z",
     "start_time": "2022-06-25T12:30:43.947940Z"
    },
    "cell_style": "center"
   },
   "outputs": [
    {
     "data": {
      "text/html": [
       "<div>\n",
       "<style scoped>\n",
       "    .dataframe tbody tr th:only-of-type {\n",
       "        vertical-align: middle;\n",
       "    }\n",
       "\n",
       "    .dataframe tbody tr th {\n",
       "        vertical-align: top;\n",
       "    }\n",
       "\n",
       "    .dataframe thead th {\n",
       "        text-align: right;\n",
       "    }\n",
       "</style>\n",
       "<table border=\"1\" class=\"dataframe\">\n",
       "  <thead>\n",
       "    <tr style=\"text-align: right;\">\n",
       "      <th></th>\n",
       "      <th>PassengerId</th>\n",
       "      <th>Survived</th>\n",
       "      <th>Pclass</th>\n",
       "      <th>Name</th>\n",
       "      <th>Sex</th>\n",
       "      <th>Age</th>\n",
       "      <th>SibSp</th>\n",
       "      <th>Parch</th>\n",
       "      <th>Ticket</th>\n",
       "      <th>Fare</th>\n",
       "      <th>Cabin</th>\n",
       "      <th>Embarked</th>\n",
       "    </tr>\n",
       "  </thead>\n",
       "  <tbody>\n",
       "    <tr>\n",
       "      <th>0</th>\n",
       "      <td>1</td>\n",
       "      <td>0</td>\n",
       "      <td>3</td>\n",
       "      <td>Braund, Mr. Owen Harris</td>\n",
       "      <td>male</td>\n",
       "      <td>22.0</td>\n",
       "      <td>1</td>\n",
       "      <td>0</td>\n",
       "      <td>A/5 21171</td>\n",
       "      <td>7.2500</td>\n",
       "      <td>NaN</td>\n",
       "      <td>S</td>\n",
       "    </tr>\n",
       "    <tr>\n",
       "      <th>1</th>\n",
       "      <td>2</td>\n",
       "      <td>1</td>\n",
       "      <td>1</td>\n",
       "      <td>Cumings, Mrs. John Bradley (Florence Briggs Th...</td>\n",
       "      <td>female</td>\n",
       "      <td>38.0</td>\n",
       "      <td>1</td>\n",
       "      <td>0</td>\n",
       "      <td>PC 17599</td>\n",
       "      <td>71.2833</td>\n",
       "      <td>C85</td>\n",
       "      <td>C</td>\n",
       "    </tr>\n",
       "    <tr>\n",
       "      <th>2</th>\n",
       "      <td>3</td>\n",
       "      <td>1</td>\n",
       "      <td>3</td>\n",
       "      <td>Heikkinen, Miss. Laina</td>\n",
       "      <td>female</td>\n",
       "      <td>26.0</td>\n",
       "      <td>0</td>\n",
       "      <td>0</td>\n",
       "      <td>STON/O2. 3101282</td>\n",
       "      <td>7.9250</td>\n",
       "      <td>NaN</td>\n",
       "      <td>S</td>\n",
       "    </tr>\n",
       "    <tr>\n",
       "      <th>3</th>\n",
       "      <td>4</td>\n",
       "      <td>1</td>\n",
       "      <td>1</td>\n",
       "      <td>Futrelle, Mrs. Jacques Heath (Lily May Peel)</td>\n",
       "      <td>female</td>\n",
       "      <td>35.0</td>\n",
       "      <td>1</td>\n",
       "      <td>0</td>\n",
       "      <td>113803</td>\n",
       "      <td>53.1000</td>\n",
       "      <td>C123</td>\n",
       "      <td>S</td>\n",
       "    </tr>\n",
       "    <tr>\n",
       "      <th>4</th>\n",
       "      <td>5</td>\n",
       "      <td>0</td>\n",
       "      <td>3</td>\n",
       "      <td>Allen, Mr. William Henry</td>\n",
       "      <td>male</td>\n",
       "      <td>35.0</td>\n",
       "      <td>0</td>\n",
       "      <td>0</td>\n",
       "      <td>373450</td>\n",
       "      <td>8.0500</td>\n",
       "      <td>NaN</td>\n",
       "      <td>S</td>\n",
       "    </tr>\n",
       "    <tr>\n",
       "      <th>5</th>\n",
       "      <td>6</td>\n",
       "      <td>0</td>\n",
       "      <td>3</td>\n",
       "      <td>Moran, Mr. James</td>\n",
       "      <td>male</td>\n",
       "      <td>NaN</td>\n",
       "      <td>0</td>\n",
       "      <td>0</td>\n",
       "      <td>330877</td>\n",
       "      <td>8.4583</td>\n",
       "      <td>NaN</td>\n",
       "      <td>Q</td>\n",
       "    </tr>\n",
       "    <tr>\n",
       "      <th>6</th>\n",
       "      <td>7</td>\n",
       "      <td>0</td>\n",
       "      <td>1</td>\n",
       "      <td>McCarthy, Mr. Timothy J</td>\n",
       "      <td>male</td>\n",
       "      <td>54.0</td>\n",
       "      <td>0</td>\n",
       "      <td>0</td>\n",
       "      <td>17463</td>\n",
       "      <td>51.8625</td>\n",
       "      <td>E46</td>\n",
       "      <td>S</td>\n",
       "    </tr>\n",
       "    <tr>\n",
       "      <th>7</th>\n",
       "      <td>8</td>\n",
       "      <td>0</td>\n",
       "      <td>3</td>\n",
       "      <td>Palsson, Master. Gosta Leonard</td>\n",
       "      <td>male</td>\n",
       "      <td>2.0</td>\n",
       "      <td>3</td>\n",
       "      <td>1</td>\n",
       "      <td>349909</td>\n",
       "      <td>21.0750</td>\n",
       "      <td>NaN</td>\n",
       "      <td>S</td>\n",
       "    </tr>\n",
       "    <tr>\n",
       "      <th>8</th>\n",
       "      <td>9</td>\n",
       "      <td>1</td>\n",
       "      <td>3</td>\n",
       "      <td>Johnson, Mrs. Oscar W (Elisabeth Vilhelmina Berg)</td>\n",
       "      <td>female</td>\n",
       "      <td>27.0</td>\n",
       "      <td>0</td>\n",
       "      <td>2</td>\n",
       "      <td>347742</td>\n",
       "      <td>11.1333</td>\n",
       "      <td>NaN</td>\n",
       "      <td>S</td>\n",
       "    </tr>\n",
       "    <tr>\n",
       "      <th>9</th>\n",
       "      <td>10</td>\n",
       "      <td>1</td>\n",
       "      <td>2</td>\n",
       "      <td>Nasser, Mrs. Nicholas (Adele Achem)</td>\n",
       "      <td>female</td>\n",
       "      <td>14.0</td>\n",
       "      <td>1</td>\n",
       "      <td>0</td>\n",
       "      <td>237736</td>\n",
       "      <td>30.0708</td>\n",
       "      <td>NaN</td>\n",
       "      <td>C</td>\n",
       "    </tr>\n",
       "  </tbody>\n",
       "</table>\n",
       "</div>"
      ],
      "text/plain": [
       "   PassengerId  Survived  Pclass  \\\n",
       "0            1         0       3   \n",
       "1            2         1       1   \n",
       "2            3         1       3   \n",
       "3            4         1       1   \n",
       "4            5         0       3   \n",
       "5            6         0       3   \n",
       "6            7         0       1   \n",
       "7            8         0       3   \n",
       "8            9         1       3   \n",
       "9           10         1       2   \n",
       "\n",
       "                                                Name     Sex   Age  SibSp  \\\n",
       "0                            Braund, Mr. Owen Harris    male  22.0      1   \n",
       "1  Cumings, Mrs. John Bradley (Florence Briggs Th...  female  38.0      1   \n",
       "2                             Heikkinen, Miss. Laina  female  26.0      0   \n",
       "3       Futrelle, Mrs. Jacques Heath (Lily May Peel)  female  35.0      1   \n",
       "4                           Allen, Mr. William Henry    male  35.0      0   \n",
       "5                                   Moran, Mr. James    male   NaN      0   \n",
       "6                            McCarthy, Mr. Timothy J    male  54.0      0   \n",
       "7                     Palsson, Master. Gosta Leonard    male   2.0      3   \n",
       "8  Johnson, Mrs. Oscar W (Elisabeth Vilhelmina Berg)  female  27.0      0   \n",
       "9                Nasser, Mrs. Nicholas (Adele Achem)  female  14.0      1   \n",
       "\n",
       "   Parch            Ticket     Fare Cabin Embarked  \n",
       "0      0         A/5 21171   7.2500   NaN        S  \n",
       "1      0          PC 17599  71.2833   C85        C  \n",
       "2      0  STON/O2. 3101282   7.9250   NaN        S  \n",
       "3      0            113803  53.1000  C123        S  \n",
       "4      0            373450   8.0500   NaN        S  \n",
       "5      0            330877   8.4583   NaN        Q  \n",
       "6      0             17463  51.8625   E46        S  \n",
       "7      1            349909  21.0750   NaN        S  \n",
       "8      2            347742  11.1333   NaN        S  \n",
       "9      0            237736  30.0708   NaN        C  "
      ]
     },
     "execution_count": 19,
     "metadata": {},
     "output_type": "execute_result"
    }
   ],
   "source": [
    "training_data = pd.read_csv(\"datasets/titanic/train.csv\") # Load the training data into a dataframe\n",
    "training_data.head(10) # show 10 line preview if brackets are falso just shows 5 as default"
   ]
  },
  {
   "cell_type": "code",
   "execution_count": 20,
   "id": "da007a9b",
   "metadata": {
    "ExecuteTime": {
     "end_time": "2022-06-25T12:30:44.433557Z",
     "start_time": "2022-06-25T12:30:44.405835Z"
    }
   },
   "outputs": [
    {
     "data": {
      "text/html": [
       "<div>\n",
       "<style scoped>\n",
       "    .dataframe tbody tr th:only-of-type {\n",
       "        vertical-align: middle;\n",
       "    }\n",
       "\n",
       "    .dataframe tbody tr th {\n",
       "        vertical-align: top;\n",
       "    }\n",
       "\n",
       "    .dataframe thead th {\n",
       "        text-align: right;\n",
       "    }\n",
       "</style>\n",
       "<table border=\"1\" class=\"dataframe\">\n",
       "  <thead>\n",
       "    <tr style=\"text-align: right;\">\n",
       "      <th></th>\n",
       "      <th>PassengerId</th>\n",
       "      <th>Survived</th>\n",
       "      <th>Pclass</th>\n",
       "      <th>Age</th>\n",
       "      <th>SibSp</th>\n",
       "      <th>Parch</th>\n",
       "      <th>Fare</th>\n",
       "    </tr>\n",
       "  </thead>\n",
       "  <tbody>\n",
       "    <tr>\n",
       "      <th>count</th>\n",
       "      <td>891.000000</td>\n",
       "      <td>891.000000</td>\n",
       "      <td>891.000000</td>\n",
       "      <td>714.000000</td>\n",
       "      <td>891.000000</td>\n",
       "      <td>891.000000</td>\n",
       "      <td>891.000000</td>\n",
       "    </tr>\n",
       "    <tr>\n",
       "      <th>mean</th>\n",
       "      <td>446.000000</td>\n",
       "      <td>0.383838</td>\n",
       "      <td>2.308642</td>\n",
       "      <td>29.699118</td>\n",
       "      <td>0.523008</td>\n",
       "      <td>0.381594</td>\n",
       "      <td>32.204208</td>\n",
       "    </tr>\n",
       "    <tr>\n",
       "      <th>std</th>\n",
       "      <td>257.353842</td>\n",
       "      <td>0.486592</td>\n",
       "      <td>0.836071</td>\n",
       "      <td>14.526497</td>\n",
       "      <td>1.102743</td>\n",
       "      <td>0.806057</td>\n",
       "      <td>49.693429</td>\n",
       "    </tr>\n",
       "    <tr>\n",
       "      <th>min</th>\n",
       "      <td>1.000000</td>\n",
       "      <td>0.000000</td>\n",
       "      <td>1.000000</td>\n",
       "      <td>0.420000</td>\n",
       "      <td>0.000000</td>\n",
       "      <td>0.000000</td>\n",
       "      <td>0.000000</td>\n",
       "    </tr>\n",
       "    <tr>\n",
       "      <th>25%</th>\n",
       "      <td>223.500000</td>\n",
       "      <td>0.000000</td>\n",
       "      <td>2.000000</td>\n",
       "      <td>20.125000</td>\n",
       "      <td>0.000000</td>\n",
       "      <td>0.000000</td>\n",
       "      <td>7.910400</td>\n",
       "    </tr>\n",
       "    <tr>\n",
       "      <th>50%</th>\n",
       "      <td>446.000000</td>\n",
       "      <td>0.000000</td>\n",
       "      <td>3.000000</td>\n",
       "      <td>28.000000</td>\n",
       "      <td>0.000000</td>\n",
       "      <td>0.000000</td>\n",
       "      <td>14.454200</td>\n",
       "    </tr>\n",
       "    <tr>\n",
       "      <th>75%</th>\n",
       "      <td>668.500000</td>\n",
       "      <td>1.000000</td>\n",
       "      <td>3.000000</td>\n",
       "      <td>38.000000</td>\n",
       "      <td>1.000000</td>\n",
       "      <td>0.000000</td>\n",
       "      <td>31.000000</td>\n",
       "    </tr>\n",
       "    <tr>\n",
       "      <th>max</th>\n",
       "      <td>891.000000</td>\n",
       "      <td>1.000000</td>\n",
       "      <td>3.000000</td>\n",
       "      <td>80.000000</td>\n",
       "      <td>8.000000</td>\n",
       "      <td>6.000000</td>\n",
       "      <td>512.329200</td>\n",
       "    </tr>\n",
       "  </tbody>\n",
       "</table>\n",
       "</div>"
      ],
      "text/plain": [
       "       PassengerId    Survived      Pclass         Age       SibSp  \\\n",
       "count   891.000000  891.000000  891.000000  714.000000  891.000000   \n",
       "mean    446.000000    0.383838    2.308642   29.699118    0.523008   \n",
       "std     257.353842    0.486592    0.836071   14.526497    1.102743   \n",
       "min       1.000000    0.000000    1.000000    0.420000    0.000000   \n",
       "25%     223.500000    0.000000    2.000000   20.125000    0.000000   \n",
       "50%     446.000000    0.000000    3.000000   28.000000    0.000000   \n",
       "75%     668.500000    1.000000    3.000000   38.000000    1.000000   \n",
       "max     891.000000    1.000000    3.000000   80.000000    8.000000   \n",
       "\n",
       "            Parch        Fare  \n",
       "count  891.000000  891.000000  \n",
       "mean     0.381594   32.204208  \n",
       "std      0.806057   49.693429  \n",
       "min      0.000000    0.000000  \n",
       "25%      0.000000    7.910400  \n",
       "50%      0.000000   14.454200  \n",
       "75%      0.000000   31.000000  \n",
       "max      6.000000  512.329200  "
      ]
     },
     "execution_count": 20,
     "metadata": {},
     "output_type": "execute_result"
    }
   ],
   "source": [
    "training_data.describe() # Show stats info about data - note only works for numerical value fields"
   ]
  },
  {
   "cell_type": "code",
   "execution_count": 21,
   "id": "d177e93f",
   "metadata": {
    "ExecuteTime": {
     "end_time": "2022-06-25T12:30:44.888007Z",
     "start_time": "2022-06-25T12:30:44.875334Z"
    }
   },
   "outputs": [
    {
     "name": "stdout",
     "output_type": "stream",
     "text": [
      "<class 'pandas.core.frame.DataFrame'>\n",
      "RangeIndex: 891 entries, 0 to 890\n",
      "Data columns (total 12 columns):\n",
      " #   Column       Non-Null Count  Dtype  \n",
      "---  ------       --------------  -----  \n",
      " 0   PassengerId  891 non-null    int64  \n",
      " 1   Survived     891 non-null    int64  \n",
      " 2   Pclass       891 non-null    int64  \n",
      " 3   Name         891 non-null    object \n",
      " 4   Sex          891 non-null    object \n",
      " 5   Age          714 non-null    float64\n",
      " 6   SibSp        891 non-null    int64  \n",
      " 7   Parch        891 non-null    int64  \n",
      " 8   Ticket       891 non-null    object \n",
      " 9   Fare         891 non-null    float64\n",
      " 10  Cabin        204 non-null    object \n",
      " 11  Embarked     889 non-null    object \n",
      "dtypes: float64(2), int64(5), object(5)\n",
      "memory usage: 83.7+ KB\n"
     ]
    }
   ],
   "source": [
    "training_data.info() #Information about the datatypes in the dataframe"
   ]
  },
  {
   "cell_type": "markdown",
   "id": "57bc4885",
   "metadata": {},
   "source": [
    "## Cleaning\n",
    "\n",
    "Processing data through a neural network involves a fair bit of work to get the input in the right was so that the neural network can _understand_ it. This next section looks at the data and some ways of making the data more neural network friendly."
   ]
  },
  {
   "cell_type": "code",
   "execution_count": 22,
   "id": "5508e534",
   "metadata": {
    "ExecuteTime": {
     "end_time": "2022-06-25T12:30:45.943341Z",
     "start_time": "2022-06-25T12:30:45.936729Z"
    }
   },
   "outputs": [
    {
     "data": {
      "text/plain": [
       "PassengerId      0\n",
       "Survived         0\n",
       "Pclass           0\n",
       "Name             0\n",
       "Sex              0\n",
       "Age            177\n",
       "SibSp            0\n",
       "Parch            0\n",
       "Ticket           0\n",
       "Fare             0\n",
       "Cabin          687\n",
       "Embarked         2\n",
       "dtype: int64"
      ]
     },
     "execution_count": 22,
     "metadata": {},
     "output_type": "execute_result"
    }
   ],
   "source": [
    "training_data.isnull().sum() #Show how man null values there are"
   ]
  },
  {
   "cell_type": "markdown",
   "id": "8fb3916b",
   "metadata": {},
   "source": [
    "Now lets look at each column individually and make some decisions as to whether or not we keep and fix the data or remove thius for the purposes of training our neural network. \n",
    "\n",
    "_Please note that this are decisions for this particular solution / notebook and other solutions may keep more or remove more data points/columns - which can also be a valid solution_\n",
    "1. PassengerId: This column will be dropped from training data as it is not relevant to the output decision of survival probablity\n",
    "2. Survived: This will be the column used as the output to train the neural network for\n",
    "3. Pclass: The class of passenger would be a relevant data point so this will be kept.\n",
    "4. Name: Name is probably not a relevant factor so this can be dropped from the training data \n",
    "5. Sex: Gender will be relevant to surcvalval so lets keep\n",
    "6. Age: Age might be a relvant factor to determine survival possibility so this should be kept and fixed\n",
    "7. SibSp: The count of siblings/spouses will be kept as it would be relevant to the survival probablity\n",
    "8. Parch: The count of parents/children will be kept as it would be relevant to the survival probablity\n",
    "9. Ticket: The ticket number is probably not relevant and should be ignored\n",
    "10. Fare: The price of the ticket could be relevant to survival probablity and will be kept\n",
    "11. Cabin: As there is no further information regarding the cabin besides the number then this not relevant and will be ignored.\n",
    "\n",
    "**_Note that we need to do this to the test/unseen set too when we load that - we need to ensure that the this set resembles the training set_**\n",
    "\n"
   ]
  },
  {
   "cell_type": "code",
   "execution_count": 23,
   "id": "a884b39e",
   "metadata": {
    "ExecuteTime": {
     "end_time": "2022-06-25T12:30:47.054844Z",
     "start_time": "2022-06-25T12:30:47.049661Z"
    }
   },
   "outputs": [
    {
     "data": {
      "text/plain": [
       "'Median Age: 28.0'"
      ]
     },
     "execution_count": 23,
     "metadata": {},
     "output_type": "execute_result"
    }
   ],
   "source": [
    "median_age_val = training_data[\"Age\"].median() # show the median age\n",
    "f\"Median Age: {median_age_val}\" \n"
   ]
  },
  {
   "cell_type": "code",
   "execution_count": 24,
   "id": "2dddd274",
   "metadata": {
    "ExecuteTime": {
     "end_time": "2022-06-25T12:30:49.755950Z",
     "start_time": "2022-06-25T12:30:49.750624Z"
    }
   },
   "outputs": [
    {
     "data": {
      "text/plain": [
       "'Mean Age: 29.69911764705882'"
      ]
     },
     "execution_count": 24,
     "metadata": {},
     "output_type": "execute_result"
    }
   ],
   "source": [
    "mean_age_val = training_data[\"Age\"].mean() # show the average age\n",
    "f\"Mean Age: {mean_age_val}\" "
   ]
  },
  {
   "cell_type": "markdown",
   "id": "2c534ef3",
   "metadata": {},
   "source": [
    "Probably ok to pick either - lets go with mean.\n",
    "\n",
    "Before this is done let's build a helper function that preprocesses (ie. cleans and engineers the features as needed). This is so we don't repeat the code over over again for the test set and any potential new tests we may want to do...\n",
    "\n",
    "More on this later"
   ]
  },
  {
   "cell_type": "code",
   "execution_count": 25,
   "id": "2cbc885f",
   "metadata": {
    "ExecuteTime": {
     "end_time": "2022-06-25T12:30:53.896099Z",
     "start_time": "2022-06-25T12:30:53.891746Z"
    }
   },
   "outputs": [],
   "source": [
    "#Function to clean the age column\n",
    "def clean_age_column(age_col) -> pd.DataFrame:\n",
    "    age_cleaned_df = age_col.fillna(training_data[\"Age\"].mean()) # Habit to create intermediate variables - you could use inplace=True as part of the inplace method params but I like to have original and intermediate variables just in case\n",
    "    # this is now the age column we will use later\n",
    "    return age_cleaned_df\n",
    "        "
   ]
  },
  {
   "cell_type": "code",
   "execution_count": 26,
   "id": "518bc0f3",
   "metadata": {
    "ExecuteTime": {
     "end_time": "2022-06-25T12:30:54.474989Z",
     "start_time": "2022-06-25T12:30:54.468181Z"
    }
   },
   "outputs": [],
   "source": [
    "#Function to clean the embarked column\n",
    "\n",
    "def clean_embarked_column(embarked_col) -> pd.DataFrame:\n",
    "    #a simple way is to just take the most embarked port and fill the nulls. \n",
    "    embarked_cleaned =embarked_col.fillna(training_data[\"Embarked\"].mode()[0])\n",
    "    return embarked_cleaned"
   ]
  },
  {
   "cell_type": "code",
   "execution_count": 27,
   "id": "8e7aa540",
   "metadata": {
    "ExecuteTime": {
     "end_time": "2022-06-25T12:30:54.943968Z",
     "start_time": "2022-06-25T12:30:54.938371Z"
    }
   },
   "outputs": [],
   "source": [
    "#As stated previously we will only work with the columns we need \n",
    "def filter_relevant_data(df) -> pd.DataFrame:\n",
    "    clean_training_dataset = df.filter(['Survived', 'Pclass', 'Sex', 'SibSp', 'Parch', 'Fare'])\n",
    "    return clean_training_dataset"
   ]
  },
  {
   "cell_type": "code",
   "execution_count": 28,
   "id": "e4298553",
   "metadata": {
    "ExecuteTime": {
     "end_time": "2022-06-25T12:30:55.269898Z",
     "start_time": "2022-06-25T12:30:55.263500Z"
    }
   },
   "outputs": [],
   "source": [
    "def perform_preprocessing(df) -> pd.DataFrame:\n",
    "    cleaned_age_column = clean_age_column(df[\"Age\"])\n",
    "    cleaned_embarked_column = clean_embarked_column(df[\"Embarked\"])\n",
    "    cleaned_df = filter_relevant_data(df)\n",
    "    cleaned_df[\"Age\"] = cleaned_age_column\n",
    "    cleaned_df[\"Embarked\"] = cleaned_embarked_column\n",
    "    return cleaned_df\n",
    "        "
   ]
  },
  {
   "cell_type": "code",
   "execution_count": 55,
   "id": "4b9767fe",
   "metadata": {
    "ExecuteTime": {
     "end_time": "2022-06-25T13:07:44.310596Z",
     "start_time": "2022-06-25T13:07:44.299437Z"
    }
   },
   "outputs": [
    {
     "name": "stdout",
     "output_type": "stream",
     "text": [
      "--- STEP 1 COMPLETE: Remove nulls and get relevant columns for training data ---\n",
      "Survived    0\n",
      "Pclass      0\n",
      "Sex         0\n",
      "SibSp       0\n",
      "Parch       0\n",
      "Fare        0\n",
      "Age         0\n",
      "Embarked    0\n",
      "dtype: int64\n"
     ]
    }
   ],
   "source": [
    "clean_training_dataset = perform_preprocessing(training_data)\n",
    "print(\"--- STEP 1 COMPLETE: Remove nulls and get relevant columns for training data ---\")\n",
    "print(clean_training_dataset.isna().sum())\n",
    "    "
   ]
  },
  {
   "cell_type": "markdown",
   "id": "1eb5b4c2",
   "metadata": {},
   "source": [
    "As we can see from the above we now have no more nulls so for the moment we can consider this data as _clean_ or probably more appropriately _complete_.\n",
    "\n",
    "The next section we do some visulisations to get some intuition from our data."
   ]
  },
  {
   "cell_type": "markdown",
   "id": "844cd631",
   "metadata": {},
   "source": [
    "## Visualising and Understanding\n",
    "\n",
    "This next section we will use a matplolib and seaborn (graphing and plotting libraries) to visualise some data and get more intuition and understanding of the data.\n",
    "\n",
    "Let's start with some simple single variable graphs"
   ]
  },
  {
   "cell_type": "code",
   "execution_count": 30,
   "id": "d19f3bec",
   "metadata": {
    "ExecuteTime": {
     "end_time": "2022-06-25T12:30:58.012097Z",
     "start_time": "2022-06-25T12:30:57.639589Z"
    }
   },
   "outputs": [
    {
     "data": {
      "text/plain": [
       "<AxesSubplot:ylabel='Survived'>"
      ]
     },
     "execution_count": 30,
     "metadata": {},
     "output_type": "execute_result"
    },
    {
     "data": {
      "text/plain": [
       "<AxesSubplot:ylabel='Pclass'>"
      ]
     },
     "execution_count": 30,
     "metadata": {},
     "output_type": "execute_result"
    },
    {
     "data": {
      "text/plain": [
       "<AxesSubplot:ylabel='Sex'>"
      ]
     },
     "execution_count": 30,
     "metadata": {},
     "output_type": "execute_result"
    },
    {
     "data": {
      "text/plain": [
       "<AxesSubplot:ylabel='SibSp'>"
      ]
     },
     "execution_count": 30,
     "metadata": {},
     "output_type": "execute_result"
    },
    {
     "data": {
      "image/png": "[encoded data removed]",
      "text/plain": [
       "<Figure size 1080x1080 with 4 Axes>"
      ]
     },
     "metadata": {},
     "output_type": "display_data"
    }
   ],
   "source": [
    "import matplotlib.pyplot as plt\n",
    "\n",
    "fig, ax1 = plt.subplots(2, 2, figsize=(15,15)) #Create a figure of nrows and ncols and add the following plots to that figure\n",
    "\n",
    "\n",
    "survived_df = clean_training_dataset[\"Survived\"] # First graph takes the survived column\n",
    "# We plot a pie chart of that column based on the counts and add it to the 0,0 position of the figure created before\n",
    "survived_df.value_counts().plot(kind=\"pie\", ax=ax1[0,0]) \n",
    "\n",
    "\n",
    "#The rest of the graphs follow suit.\n",
    "class_df = clean_training_dataset[\"Pclass\"]\n",
    "class_df.value_counts().plot(kind=\"pie\", ax=ax1[0,1])\n",
    "\n",
    "gender_df = clean_training_dataset[\"Sex\"]\n",
    "gender_df.value_counts().plot(kind=\"pie\", ax=ax1[1,0])\n",
    "\n",
    "\n",
    "sibsp_df = clean_training_dataset[\"SibSp\"]\n",
    "sibsp_df.value_counts().plot(kind=\"pie\", ax=ax1[1,1])\n",
    "\n"
   ]
  },
  {
   "cell_type": "markdown",
   "id": "4620b443",
   "metadata": {},
   "source": [
    "Graph 1 - Shows that not a lot survived (remember 0 = Did not survive)\n",
    "\n",
    "Graph 2 - Shows that there were alot of people on 3rd class tickets\n",
    "\n",
    "Graph 3 - Shows that there were a lot more men than women\n",
    "\n",
    "Graph 4 - Shows that there were a lot of people without Siblings or Spouses (single possibly)\n",
    "\n",
    "Now this is all well and good but lets do some deeper exploration with some examples of multiple variable graphs"
   ]
  },
  {
   "cell_type": "code",
   "execution_count": 31,
   "id": "4703b136",
   "metadata": {
    "ExecuteTime": {
     "end_time": "2022-06-25T12:31:02.840542Z",
     "start_time": "2022-06-25T12:31:02.512840Z"
    }
   },
   "outputs": [
    {
     "data": {
      "text/plain": [
       "<AxesSubplot:xlabel='Survived', ylabel='count'>"
      ]
     },
     "execution_count": 31,
     "metadata": {},
     "output_type": "execute_result"
    },
    {
     "data": {
      "image/png": "[encoded data removed]",
      "text/plain": [
       "<Figure size 432x288 with 1 Axes>"
      ]
     },
     "metadata": {
      "needs_background": "light"
     },
     "output_type": "display_data"
    }
   ],
   "source": [
    "import seaborn as sns # Seaborn is built on matplotlib and gives some richer and more convenient features\n",
    "\n",
    "sns.countplot(x=\"Survived\", data=clean_training_dataset) #as an example we can see a bar chart for survived vs not\n"
   ]
  },
  {
   "cell_type": "code",
   "execution_count": 32,
   "id": "99059a50",
   "metadata": {
    "ExecuteTime": {
     "end_time": "2022-06-25T12:31:03.140527Z",
     "start_time": "2022-06-25T12:31:02.974524Z"
    }
   },
   "outputs": [
    {
     "data": {
      "text/plain": [
       "<seaborn.axisgrid.FacetGrid at 0x7ffac11817b8>"
      ]
     },
     "execution_count": 32,
     "metadata": {},
     "output_type": "execute_result"
    },
    {
     "data": {
      "image/png": "[encoded data removed]",
      "text/plain": [
       "<Figure size 720x360 with 2 Axes>"
      ]
     },
     "metadata": {
      "needs_background": "light"
     },
     "output_type": "display_data"
    }
   ],
   "source": [
    "sns.catplot(x=\"Sex\", col=\"Survived\", kind=\"count\", data=clean_training_dataset)"
   ]
  },
  {
   "cell_type": "markdown",
   "id": "58652c92",
   "metadata": {},
   "source": [
    "**Looks like more men did not survive than compared to women. Could be because, as the story goes, women and children were saved first.**"
   ]
  },
  {
   "cell_type": "code",
   "execution_count": 33,
   "id": "d6b28182",
   "metadata": {
    "ExecuteTime": {
     "end_time": "2022-06-25T12:31:08.051952Z",
     "start_time": "2022-06-25T12:31:07.887634Z"
    }
   },
   "outputs": [
    {
     "data": {
      "text/plain": [
       "<seaborn.axisgrid.FacetGrid at 0x7ffac1101f98>"
      ]
     },
     "execution_count": 33,
     "metadata": {},
     "output_type": "execute_result"
    },
    {
     "data": {
      "image/png": "[encoded data removed]",
      "text/plain": [
       "<Figure size 720x360 with 2 Axes>"
      ]
     },
     "metadata": {
      "needs_background": "light"
     },
     "output_type": "display_data"
    }
   ],
   "source": [
    "sns.catplot(x=\"Pclass\", col=\"Survived\", kind=\"count\", data=clean_training_dataset)"
   ]
  },
  {
   "cell_type": "markdown",
   "id": "bbc4e747",
   "metadata": {},
   "source": [
    "**Seems reasonable to see those with worse living arrangements had a higher mortality rate. Intuitively shows that the upper class were probably better off**"
   ]
  },
  {
   "cell_type": "code",
   "execution_count": 34,
   "id": "eff52233",
   "metadata": {
    "ExecuteTime": {
     "end_time": "2022-06-25T12:31:09.162971Z",
     "start_time": "2022-06-25T12:31:08.991814Z"
    }
   },
   "outputs": [
    {
     "data": {
      "text/plain": [
       "<seaborn.axisgrid.FacetGrid at 0x7ffac10617f0>"
      ]
     },
     "execution_count": 34,
     "metadata": {},
     "output_type": "execute_result"
    },
    {
     "data": {
      "image/png": "[encoded data removed]",
      "text/plain": [
       "<Figure size 720x360 with 2 Axes>"
      ]
     },
     "metadata": {
      "needs_background": "light"
     },
     "output_type": "display_data"
    }
   ],
   "source": [
    "sns.catplot(x=\"Embarked\", col=\"Survived\", kind=\"count\", data=clean_training_dataset)"
   ]
  },
  {
   "cell_type": "markdown",
   "id": "74c8315f",
   "metadata": {},
   "source": [
    "**The above graph shows the mortality for the people who got on at different ports**"
   ]
  },
  {
   "cell_type": "code",
   "execution_count": 35,
   "id": "32c7aab9",
   "metadata": {
    "ExecuteTime": {
     "end_time": "2022-06-25T12:31:10.297142Z",
     "start_time": "2022-06-25T12:31:10.116369Z"
    }
   },
   "outputs": [
    {
     "data": {
      "text/plain": [
       "<seaborn.axisgrid.FacetGrid at 0x7ffac1049128>"
      ]
     },
     "execution_count": 35,
     "metadata": {},
     "output_type": "execute_result"
    },
    {
     "data": {
      "image/png": "[encoded data removed]",
      "text/plain": [
       "<Figure size 720x360 with 2 Axes>"
      ]
     },
     "metadata": {
      "needs_background": "light"
     },
     "output_type": "display_data"
    }
   ],
   "source": [
    "sns.catplot(x=\"Parch\", col=\"Survived\", kind=\"count\", data=clean_training_dataset)"
   ]
  },
  {
   "cell_type": "markdown",
   "id": "cce03796",
   "metadata": {},
   "source": [
    "**The above graph is interesting and shows that proportinately, those with children or have parents seem to survive more than the ones with none. This again initutively supports the women and children first story.**\n",
    "\n",
    "For brevity's sake not all the exploration and graphs have been included here and the above are just examples.For the next step we are going to be engineering the data to fit more in line with what a KERAS NN expects. "
   ]
  },
  {
   "cell_type": "markdown",
   "id": "a6ab0c4f",
   "metadata": {},
   "source": [
    "<h1><center>Feature Engineering</center></h1>\n",
    "\n",
    "This section creates categories where possible and engineers the features required for NN training to more NN friendly version."
   ]
  },
  {
   "cell_type": "markdown",
   "id": "da18e80a",
   "metadata": {},
   "source": [
    "## Family Size\n",
    "\n",
    "As we saw earlier those with parents/children seem to have a better rate of surival. Lets extrapolate this with the size of the family. Lets add people with their parents and children aadn well as siblinsg and spuses and put them into the following categories:\n",
    "\n",
    "<ul>\n",
    "    <li>Singles</li>\n",
    "    <li>Small families</li>\n",
    "    <li>Standard families</li>\n",
    "    <li>Large families</li>\n",
    "</ul>\n",
    "\n"
   ]
  },
  {
   "cell_type": "code",
   "execution_count": 36,
   "id": "c7264462",
   "metadata": {
    "ExecuteTime": {
     "end_time": "2022-06-25T12:31:30.764954Z",
     "start_time": "2022-06-25T12:31:30.753016Z"
    }
   },
   "outputs": [
    {
     "data": {
      "text/html": [
       "<div>\n",
       "<style scoped>\n",
       "    .dataframe tbody tr th:only-of-type {\n",
       "        vertical-align: middle;\n",
       "    }\n",
       "\n",
       "    .dataframe tbody tr th {\n",
       "        vertical-align: top;\n",
       "    }\n",
       "\n",
       "    .dataframe thead th {\n",
       "        text-align: right;\n",
       "    }\n",
       "</style>\n",
       "<table border=\"1\" class=\"dataframe\">\n",
       "  <thead>\n",
       "    <tr style=\"text-align: right;\">\n",
       "      <th></th>\n",
       "      <th>Survived</th>\n",
       "      <th>Pclass</th>\n",
       "      <th>Sex</th>\n",
       "      <th>SibSp</th>\n",
       "      <th>Parch</th>\n",
       "      <th>Fare</th>\n",
       "      <th>Age</th>\n",
       "      <th>Embarked</th>\n",
       "      <th>Family_Size</th>\n",
       "    </tr>\n",
       "  </thead>\n",
       "  <tbody>\n",
       "    <tr>\n",
       "      <th>0</th>\n",
       "      <td>0</td>\n",
       "      <td>3</td>\n",
       "      <td>male</td>\n",
       "      <td>1</td>\n",
       "      <td>0</td>\n",
       "      <td>7.2500</td>\n",
       "      <td>22.0</td>\n",
       "      <td>S</td>\n",
       "      <td>Small Family</td>\n",
       "    </tr>\n",
       "    <tr>\n",
       "      <th>1</th>\n",
       "      <td>1</td>\n",
       "      <td>1</td>\n",
       "      <td>female</td>\n",
       "      <td>1</td>\n",
       "      <td>0</td>\n",
       "      <td>71.2833</td>\n",
       "      <td>38.0</td>\n",
       "      <td>C</td>\n",
       "      <td>Small Family</td>\n",
       "    </tr>\n",
       "    <tr>\n",
       "      <th>2</th>\n",
       "      <td>1</td>\n",
       "      <td>3</td>\n",
       "      <td>female</td>\n",
       "      <td>0</td>\n",
       "      <td>0</td>\n",
       "      <td>7.9250</td>\n",
       "      <td>26.0</td>\n",
       "      <td>S</td>\n",
       "      <td>Single</td>\n",
       "    </tr>\n",
       "    <tr>\n",
       "      <th>3</th>\n",
       "      <td>1</td>\n",
       "      <td>1</td>\n",
       "      <td>female</td>\n",
       "      <td>1</td>\n",
       "      <td>0</td>\n",
       "      <td>53.1000</td>\n",
       "      <td>35.0</td>\n",
       "      <td>S</td>\n",
       "      <td>Small Family</td>\n",
       "    </tr>\n",
       "    <tr>\n",
       "      <th>4</th>\n",
       "      <td>0</td>\n",
       "      <td>3</td>\n",
       "      <td>male</td>\n",
       "      <td>0</td>\n",
       "      <td>0</td>\n",
       "      <td>8.0500</td>\n",
       "      <td>35.0</td>\n",
       "      <td>S</td>\n",
       "      <td>Single</td>\n",
       "    </tr>\n",
       "  </tbody>\n",
       "</table>\n",
       "</div>"
      ],
      "text/plain": [
       "   Survived  Pclass     Sex  SibSp  Parch     Fare   Age Embarked  \\\n",
       "0         0       3    male      1      0   7.2500  22.0        S   \n",
       "1         1       1  female      1      0  71.2833  38.0        C   \n",
       "2         1       3  female      0      0   7.9250  26.0        S   \n",
       "3         1       1  female      1      0  53.1000  35.0        S   \n",
       "4         0       3    male      0      0   8.0500  35.0        S   \n",
       "\n",
       "    Family_Size  \n",
       "0  Small Family  \n",
       "1  Small Family  \n",
       "2        Single  \n",
       "3  Small Family  \n",
       "4        Single  "
      ]
     },
     "execution_count": 36,
     "metadata": {},
     "output_type": "execute_result"
    }
   ],
   "source": [
    "def create_family_size_bucket(family_size)->str:\n",
    "\n",
    "    if family_size < 2:\n",
    "        return \"Single\"\n",
    "    if 2<=family_size <=3:\n",
    "        return \"Small Family\"\n",
    "    if 4 <= family_size <=6:\n",
    "        return \"Standard Family\"\n",
    "    if family_size > 6:\n",
    "        return \"Big Family\"\n",
    "\n",
    "\n",
    "def create_family_size_category(df)->pd.DataFrame:\n",
    "    family_size_df = df[\"SibSp\"] + df[\"Parch\"] + 1 #Parents, children, siblings, spouses + 1 for themselves\n",
    "    family_size_bucket = family_size_df.apply(lambda row: create_family_size_bucket(row)) #apply is more effecient way to perform an operation on each row of a dataset\n",
    "    return family_size_bucket\n",
    "\n",
    "clean_training_dataset[\"Family_Size\"] = create_family_size_category(clean_training_dataset)\n",
    "clean_training_dataset.head()"
   ]
  },
  {
   "cell_type": "code",
   "execution_count": 37,
   "id": "bd78b217",
   "metadata": {
    "ExecuteTime": {
     "end_time": "2022-06-25T12:31:31.502137Z",
     "start_time": "2022-06-25T12:31:31.331794Z"
    }
   },
   "outputs": [
    {
     "data": {
      "text/plain": [
       "<seaborn.axisgrid.FacetGrid at 0x7ffb948dcb00>"
      ]
     },
     "execution_count": 37,
     "metadata": {},
     "output_type": "execute_result"
    },
    {
     "data": {
      "image/png": "[encoded data removed]",
      "text/plain": [
       "<Figure size 720x360 with 2 Axes>"
      ]
     },
     "metadata": {
      "needs_background": "light"
     },
     "output_type": "display_data"
    }
   ],
   "source": [
    "sns.catplot(x=\"Family_Size\", col=\"Survived\", kind=\"count\", data=clean_training_dataset)"
   ]
  },
  {
   "cell_type": "markdown",
   "id": "17e0d946",
   "metadata": {},
   "source": [
    "**Seems like the singles were worst off**"
   ]
  },
  {
   "cell_type": "markdown",
   "id": "818eb103",
   "metadata": {},
   "source": [
    "## Age Bracket\n",
    "\n",
    "Lets put the this data point (which is a continuous variable and a little harder to handle) into a category of age brackets.\n",
    "\n",
    "<ul>\n",
    "    <li>Child</li>\n",
    "    <li>Teen</li>\n",
    "    <li>Young Adult</li>\n",
    "    <li>Mature</li>\n",
    "    <li>Senior</li>\n",
    "    \n",
    "</ul>\n",
    "\n"
   ]
  },
  {
   "cell_type": "code",
   "execution_count": 38,
   "id": "8d425aec",
   "metadata": {
    "ExecuteTime": {
     "end_time": "2022-06-25T12:31:33.614449Z",
     "start_time": "2022-06-25T12:31:33.606160Z"
    }
   },
   "outputs": [
    {
     "data": {
      "text/plain": [
       "80.0"
      ]
     },
     "execution_count": 38,
     "metadata": {},
     "output_type": "execute_result"
    },
    {
     "data": {
      "text/plain": [
       "0.42"
      ]
     },
     "execution_count": 38,
     "metadata": {},
     "output_type": "execute_result"
    },
    {
     "data": {
      "text/plain": [
       "29.69911764705882"
      ]
     },
     "execution_count": 38,
     "metadata": {},
     "output_type": "execute_result"
    }
   ],
   "source": [
    "clean_training_dataset[\"Age\"].max()\n",
    "clean_training_dataset[\"Age\"].min()\n",
    "clean_training_dataset[\"Age\"].mean()"
   ]
  },
  {
   "cell_type": "code",
   "execution_count": 39,
   "id": "402250bb",
   "metadata": {
    "ExecuteTime": {
     "end_time": "2022-06-25T12:31:34.297433Z",
     "start_time": "2022-06-25T12:31:34.273364Z"
    }
   },
   "outputs": [
    {
     "data": {
      "text/html": [
       "<div>\n",
       "<style scoped>\n",
       "    .dataframe tbody tr th:only-of-type {\n",
       "        vertical-align: middle;\n",
       "    }\n",
       "\n",
       "    .dataframe tbody tr th {\n",
       "        vertical-align: top;\n",
       "    }\n",
       "\n",
       "    .dataframe thead th {\n",
       "        text-align: right;\n",
       "    }\n",
       "</style>\n",
       "<table border=\"1\" class=\"dataframe\">\n",
       "  <thead>\n",
       "    <tr style=\"text-align: right;\">\n",
       "      <th></th>\n",
       "      <th>Survived</th>\n",
       "      <th>Pclass</th>\n",
       "      <th>Sex</th>\n",
       "      <th>SibSp</th>\n",
       "      <th>Parch</th>\n",
       "      <th>Fare</th>\n",
       "      <th>Age</th>\n",
       "      <th>Embarked</th>\n",
       "      <th>Family_Size</th>\n",
       "      <th>Age_Bucket</th>\n",
       "    </tr>\n",
       "  </thead>\n",
       "  <tbody>\n",
       "    <tr>\n",
       "      <th>0</th>\n",
       "      <td>0</td>\n",
       "      <td>3</td>\n",
       "      <td>male</td>\n",
       "      <td>1</td>\n",
       "      <td>0</td>\n",
       "      <td>7.2500</td>\n",
       "      <td>22.0</td>\n",
       "      <td>S</td>\n",
       "      <td>Small Family</td>\n",
       "      <td>Young Adult</td>\n",
       "    </tr>\n",
       "    <tr>\n",
       "      <th>1</th>\n",
       "      <td>1</td>\n",
       "      <td>1</td>\n",
       "      <td>female</td>\n",
       "      <td>1</td>\n",
       "      <td>0</td>\n",
       "      <td>71.2833</td>\n",
       "      <td>38.0</td>\n",
       "      <td>C</td>\n",
       "      <td>Small Family</td>\n",
       "      <td>Young Adult</td>\n",
       "    </tr>\n",
       "    <tr>\n",
       "      <th>2</th>\n",
       "      <td>1</td>\n",
       "      <td>3</td>\n",
       "      <td>female</td>\n",
       "      <td>0</td>\n",
       "      <td>0</td>\n",
       "      <td>7.9250</td>\n",
       "      <td>26.0</td>\n",
       "      <td>S</td>\n",
       "      <td>Single</td>\n",
       "      <td>Young Adult</td>\n",
       "    </tr>\n",
       "    <tr>\n",
       "      <th>3</th>\n",
       "      <td>1</td>\n",
       "      <td>1</td>\n",
       "      <td>female</td>\n",
       "      <td>1</td>\n",
       "      <td>0</td>\n",
       "      <td>53.1000</td>\n",
       "      <td>35.0</td>\n",
       "      <td>S</td>\n",
       "      <td>Small Family</td>\n",
       "      <td>Young Adult</td>\n",
       "    </tr>\n",
       "    <tr>\n",
       "      <th>4</th>\n",
       "      <td>0</td>\n",
       "      <td>3</td>\n",
       "      <td>male</td>\n",
       "      <td>0</td>\n",
       "      <td>0</td>\n",
       "      <td>8.0500</td>\n",
       "      <td>35.0</td>\n",
       "      <td>S</td>\n",
       "      <td>Single</td>\n",
       "      <td>Young Adult</td>\n",
       "    </tr>\n",
       "  </tbody>\n",
       "</table>\n",
       "</div>"
      ],
      "text/plain": [
       "   Survived  Pclass     Sex  SibSp  Parch     Fare   Age Embarked  \\\n",
       "0         0       3    male      1      0   7.2500  22.0        S   \n",
       "1         1       1  female      1      0  71.2833  38.0        C   \n",
       "2         1       3  female      0      0   7.9250  26.0        S   \n",
       "3         1       1  female      1      0  53.1000  35.0        S   \n",
       "4         0       3    male      0      0   8.0500  35.0        S   \n",
       "\n",
       "    Family_Size   Age_Bucket  \n",
       "0  Small Family  Young Adult  \n",
       "1  Small Family  Young Adult  \n",
       "2        Single  Young Adult  \n",
       "3  Small Family  Young Adult  \n",
       "4        Single  Young Adult  "
      ]
     },
     "execution_count": 39,
     "metadata": {},
     "output_type": "execute_result"
    }
   ],
   "source": [
    "def put_in_age_bucket(age):\n",
    "    \n",
    "    if 0.0 <= age <= 12.99:\n",
    "        return \"Child\"\n",
    "    if 13.0 <= age <= 19.99:\n",
    "        return \"Teen\"\n",
    "    if 20.0 <= age <= 39.99:\n",
    "        return \"Young Adult\"\n",
    "    if 40.0 <= age <= 59.99:\n",
    "        return \"Mature Age\"\n",
    "    if age >= 60:\n",
    "        return \"Senior\"\n",
    "\n",
    "\n",
    "def create_age_buckets(age_df):\n",
    "    age_bucket_df = age_df.apply(lambda row: put_in_age_bucket(row))\n",
    "    return age_bucket_df\n",
    "\n",
    "\n",
    "clean_training_dataset[\"Age_Bucket\"] = create_age_buckets(clean_training_dataset[\"Age\"]) \n",
    "clean_training_dataset.head()"
   ]
  },
  {
   "cell_type": "code",
   "execution_count": 40,
   "id": "3f1b66ec",
   "metadata": {
    "ExecuteTime": {
     "end_time": "2022-06-25T12:31:35.051818Z",
     "start_time": "2022-06-25T12:31:34.867347Z"
    }
   },
   "outputs": [
    {
     "data": {
      "text/plain": [
       "<seaborn.axisgrid.FacetGrid at 0x7ffac0d8acc0>"
      ]
     },
     "execution_count": 40,
     "metadata": {},
     "output_type": "execute_result"
    },
    {
     "data": {
      "image/png": "[encoded data removed]",
      "text/plain": [
       "<Figure size 720x360 with 2 Axes>"
      ]
     },
     "metadata": {
      "needs_background": "light"
     },
     "output_type": "display_data"
    }
   ],
   "source": [
    "sns.catplot(x=\"Age_Bucket\", col=\"Survived\", kind=\"count\", data=clean_training_dataset)"
   ]
  },
  {
   "cell_type": "markdown",
   "id": "3924bb66",
   "metadata": {},
   "source": [
    "**Again the data visualisation shows that children, young people and the elderly had a beter probability of survival as they were probably saved first which seems intuitively correct**"
   ]
  },
  {
   "cell_type": "markdown",
   "id": "3ddc08f5",
   "metadata": {},
   "source": [
    "## Fare Buckets\n",
    "\n",
    "Now lets look at another continuous variable fare and see how much the price of admission is related to survival probablity. Again as a continuous variable lets make it easier and break into bucket. \n",
    "\n",
    "But let's first look at the fare data and see what we can learn"
   ]
  },
  {
   "cell_type": "code",
   "execution_count": 41,
   "id": "3a80a5cd",
   "metadata": {
    "ExecuteTime": {
     "end_time": "2022-06-25T12:31:36.809348Z",
     "start_time": "2022-06-25T12:31:36.657690Z"
    }
   },
   "outputs": [
    {
     "data": {
      "text/plain": [
       "512.3292"
      ]
     },
     "execution_count": 41,
     "metadata": {},
     "output_type": "execute_result"
    },
    {
     "data": {
      "text/plain": [
       "0.0"
      ]
     },
     "execution_count": 41,
     "metadata": {},
     "output_type": "execute_result"
    },
    {
     "data": {
      "text/plain": [
       "32.204207968574636"
      ]
     },
     "execution_count": 41,
     "metadata": {},
     "output_type": "execute_result"
    },
    {
     "data": {
      "text/plain": [
       "14.4542"
      ]
     },
     "execution_count": 41,
     "metadata": {},
     "output_type": "execute_result"
    },
    {
     "data": {
      "text/html": [
       "<div>\n",
       "<style scoped>\n",
       "    .dataframe tbody tr th:only-of-type {\n",
       "        vertical-align: middle;\n",
       "    }\n",
       "\n",
       "    .dataframe tbody tr th {\n",
       "        vertical-align: top;\n",
       "    }\n",
       "\n",
       "    .dataframe thead th {\n",
       "        text-align: right;\n",
       "    }\n",
       "</style>\n",
       "<table border=\"1\" class=\"dataframe\">\n",
       "  <thead>\n",
       "    <tr style=\"text-align: right;\">\n",
       "      <th></th>\n",
       "      <th>Survived</th>\n",
       "      <th>Pclass</th>\n",
       "      <th>Sex</th>\n",
       "      <th>SibSp</th>\n",
       "      <th>Parch</th>\n",
       "      <th>Fare</th>\n",
       "      <th>Age</th>\n",
       "      <th>Embarked</th>\n",
       "      <th>Family_Size</th>\n",
       "      <th>Age_Bucket</th>\n",
       "    </tr>\n",
       "  </thead>\n",
       "  <tbody>\n",
       "    <tr>\n",
       "      <th>0</th>\n",
       "      <td>0</td>\n",
       "      <td>3</td>\n",
       "      <td>male</td>\n",
       "      <td>1</td>\n",
       "      <td>0</td>\n",
       "      <td>7.2500</td>\n",
       "      <td>22.0</td>\n",
       "      <td>S</td>\n",
       "      <td>Small Family</td>\n",
       "      <td>Young Adult</td>\n",
       "    </tr>\n",
       "    <tr>\n",
       "      <th>1</th>\n",
       "      <td>1</td>\n",
       "      <td>1</td>\n",
       "      <td>female</td>\n",
       "      <td>1</td>\n",
       "      <td>0</td>\n",
       "      <td>71.2833</td>\n",
       "      <td>38.0</td>\n",
       "      <td>C</td>\n",
       "      <td>Small Family</td>\n",
       "      <td>Young Adult</td>\n",
       "    </tr>\n",
       "    <tr>\n",
       "      <th>2</th>\n",
       "      <td>1</td>\n",
       "      <td>3</td>\n",
       "      <td>female</td>\n",
       "      <td>0</td>\n",
       "      <td>0</td>\n",
       "      <td>7.9250</td>\n",
       "      <td>26.0</td>\n",
       "      <td>S</td>\n",
       "      <td>Single</td>\n",
       "      <td>Young Adult</td>\n",
       "    </tr>\n",
       "    <tr>\n",
       "      <th>3</th>\n",
       "      <td>1</td>\n",
       "      <td>1</td>\n",
       "      <td>female</td>\n",
       "      <td>1</td>\n",
       "      <td>0</td>\n",
       "      <td>53.1000</td>\n",
       "      <td>35.0</td>\n",
       "      <td>S</td>\n",
       "      <td>Small Family</td>\n",
       "      <td>Young Adult</td>\n",
       "    </tr>\n",
       "    <tr>\n",
       "      <th>4</th>\n",
       "      <td>0</td>\n",
       "      <td>3</td>\n",
       "      <td>male</td>\n",
       "      <td>0</td>\n",
       "      <td>0</td>\n",
       "      <td>8.0500</td>\n",
       "      <td>35.0</td>\n",
       "      <td>S</td>\n",
       "      <td>Single</td>\n",
       "      <td>Young Adult</td>\n",
       "    </tr>\n",
       "  </tbody>\n",
       "</table>\n",
       "</div>"
      ],
      "text/plain": [
       "   Survived  Pclass     Sex  SibSp  Parch     Fare   Age Embarked  \\\n",
       "0         0       3    male      1      0   7.2500  22.0        S   \n",
       "1         1       1  female      1      0  71.2833  38.0        C   \n",
       "2         1       3  female      0      0   7.9250  26.0        S   \n",
       "3         1       1  female      1      0  53.1000  35.0        S   \n",
       "4         0       3    male      0      0   8.0500  35.0        S   \n",
       "\n",
       "    Family_Size   Age_Bucket  \n",
       "0  Small Family  Young Adult  \n",
       "1  Small Family  Young Adult  \n",
       "2        Single  Young Adult  \n",
       "3  Small Family  Young Adult  \n",
       "4        Single  Young Adult  "
      ]
     },
     "execution_count": 41,
     "metadata": {},
     "output_type": "execute_result"
    },
    {
     "data": {
      "text/plain": [
       "<Figure size 1440x360 with 0 Axes>"
      ]
     },
     "execution_count": 41,
     "metadata": {},
     "output_type": "execute_result"
    },
    {
     "data": {
      "text/plain": [
       "<AxesSubplot:xlabel='Fare', ylabel='Count'>"
      ]
     },
     "execution_count": 41,
     "metadata": {},
     "output_type": "execute_result"
    },
    {
     "data": {
      "image/png": "[encoded data removed]",
      "text/plain": [
       "<Figure size 1440x360 with 1 Axes>"
      ]
     },
     "metadata": {
      "needs_background": "light"
     },
     "output_type": "display_data"
    }
   ],
   "source": [
    "clean_training_dataset[\"Fare\"].max()\n",
    "clean_training_dataset[\"Fare\"].min()\n",
    "clean_training_dataset[\"Fare\"].mean()\n",
    "clean_training_dataset[\"Fare\"].median()\n",
    "\n",
    "clean_training_dataset.head()\n",
    "plt.figure(figsize=(20,5))\n",
    "sns.histplot(clean_training_dataset[clean_training_dataset.Survived == 0][\"Fare\"], \n",
    "             bins=50, color='r')\n"
   ]
  },
  {
   "cell_type": "code",
   "execution_count": 42,
   "id": "3eb7aae3",
   "metadata": {
    "ExecuteTime": {
     "end_time": "2022-06-25T12:31:38.218526Z",
     "start_time": "2022-06-25T12:31:38.061212Z"
    }
   },
   "outputs": [
    {
     "data": {
      "text/plain": [
       "<Figure size 1440x360 with 0 Axes>"
      ]
     },
     "execution_count": 42,
     "metadata": {},
     "output_type": "execute_result"
    },
    {
     "data": {
      "text/plain": [
       "<AxesSubplot:xlabel='Fare', ylabel='Count'>"
      ]
     },
     "execution_count": 42,
     "metadata": {},
     "output_type": "execute_result"
    },
    {
     "data": {
      "image/png": "[encoded data removed]",
      "text/plain": [
       "<Figure size 1440x360 with 1 Axes>"
      ]
     },
     "metadata": {
      "needs_background": "light"
     },
     "output_type": "display_data"
    }
   ],
   "source": [
    "plt.figure(figsize=(20,5))\n",
    "sns.histplot(clean_training_dataset[clean_training_dataset.Survived == 1][\"Fare\"], \n",
    "             bins=60, color='g')"
   ]
  },
  {
   "cell_type": "markdown",
   "id": "d1535ac9",
   "metadata": {},
   "source": [
    "**From the above data we can definitely see that those who paid more did better. A damning evidence of how the rich were probably looked after better**\n",
    "\n",
    "Using the above data the thresholds in the code below seem reasonable to deliniate the following fare buckets:\n",
    "\n",
    "<ul>\n",
    "    <li>Low Fare</li>\n",
    "    <li>Cheap Fare</li>\n",
    "    <li>Standard Fare</li>\n",
    "    <li>High Fare</li>\n",
    "    <li>Highest Fare</li>\n",
    "</ul>\n",
    "\n"
   ]
  },
  {
   "cell_type": "code",
   "execution_count": 43,
   "id": "aa436b06",
   "metadata": {
    "ExecuteTime": {
     "end_time": "2022-06-25T12:31:42.981903Z",
     "start_time": "2022-06-25T12:31:42.973661Z"
    }
   },
   "outputs": [],
   "source": [
    "def put_fare_into_bucket(fare):\n",
    "    if 0.0 <= fare <= 10.0:\n",
    "        return \"Low Fare\"\n",
    "    if 10.0 < fare <= 20.0:\n",
    "        return \"Cheap Fare\"\n",
    "    if 20.0 < fare <= 50.0:\n",
    "        return \"Standard Fare\"\n",
    "    if 50.0 < fare <= 100.0:\n",
    "        return \"High Fare\"\n",
    "    if fare > 100:\n",
    "        return \"Highest Fare\"\n",
    "\n",
    "def create_fare_buckets(fare_df):\n",
    "    fare_bucket_df = fare_df.apply(lambda row: put_fare_into_bucket(row))\n",
    "    return fare_bucket_df\n",
    "\n",
    "\n",
    "clean_training_dataset[\"Fare_Bucket\"] = create_fare_buckets(clean_training_dataset[\"Fare\"]) \n"
   ]
  },
  {
   "cell_type": "code",
   "execution_count": 44,
   "id": "d2b08686",
   "metadata": {
    "ExecuteTime": {
     "end_time": "2022-06-25T12:31:43.849003Z",
     "start_time": "2022-06-25T12:31:43.587340Z"
    }
   },
   "outputs": [
    {
     "data": {
      "text/plain": [
       "<seaborn.axisgrid.FacetGrid at 0x7ffac0c6a5c0>"
      ]
     },
     "execution_count": 44,
     "metadata": {},
     "output_type": "execute_result"
    },
    {
     "data": {
      "image/png": "[encoded data removed]",
      "text/plain": [
       "<Figure size 720x360 with 2 Axes>"
      ]
     },
     "metadata": {
      "needs_background": "light"
     },
     "output_type": "display_data"
    }
   ],
   "source": [
    "sns.catplot(x=\"Fare_Bucket\", col=\"Survived\", kind=\"count\", data=clean_training_dataset)"
   ]
  },
  {
   "cell_type": "markdown",
   "id": "f17c7241",
   "metadata": {},
   "source": [
    "**So again we see that the people with the lowest fare are the unluckiest ones proportionately**"
   ]
  },
  {
   "cell_type": "code",
   "execution_count": 45,
   "id": "2ab0bb98",
   "metadata": {
    "ExecuteTime": {
     "end_time": "2022-06-25T12:31:46.666672Z",
     "start_time": "2022-06-25T12:31:46.656826Z"
    }
   },
   "outputs": [
    {
     "data": {
      "text/html": [
       "<div>\n",
       "<style scoped>\n",
       "    .dataframe tbody tr th:only-of-type {\n",
       "        vertical-align: middle;\n",
       "    }\n",
       "\n",
       "    .dataframe tbody tr th {\n",
       "        vertical-align: top;\n",
       "    }\n",
       "\n",
       "    .dataframe thead th {\n",
       "        text-align: right;\n",
       "    }\n",
       "</style>\n",
       "<table border=\"1\" class=\"dataframe\">\n",
       "  <thead>\n",
       "    <tr style=\"text-align: right;\">\n",
       "      <th></th>\n",
       "      <th>Survived</th>\n",
       "      <th>Pclass</th>\n",
       "      <th>Sex</th>\n",
       "      <th>Embarked</th>\n",
       "      <th>Family_Size</th>\n",
       "      <th>Age_Bucket</th>\n",
       "      <th>Fare_Bucket</th>\n",
       "    </tr>\n",
       "  </thead>\n",
       "  <tbody>\n",
       "    <tr>\n",
       "      <th>0</th>\n",
       "      <td>0</td>\n",
       "      <td>3</td>\n",
       "      <td>male</td>\n",
       "      <td>S</td>\n",
       "      <td>Small Family</td>\n",
       "      <td>Young Adult</td>\n",
       "      <td>Low Fare</td>\n",
       "    </tr>\n",
       "    <tr>\n",
       "      <th>1</th>\n",
       "      <td>1</td>\n",
       "      <td>1</td>\n",
       "      <td>female</td>\n",
       "      <td>C</td>\n",
       "      <td>Small Family</td>\n",
       "      <td>Young Adult</td>\n",
       "      <td>High Fare</td>\n",
       "    </tr>\n",
       "    <tr>\n",
       "      <th>2</th>\n",
       "      <td>1</td>\n",
       "      <td>3</td>\n",
       "      <td>female</td>\n",
       "      <td>S</td>\n",
       "      <td>Single</td>\n",
       "      <td>Young Adult</td>\n",
       "      <td>Low Fare</td>\n",
       "    </tr>\n",
       "    <tr>\n",
       "      <th>3</th>\n",
       "      <td>1</td>\n",
       "      <td>1</td>\n",
       "      <td>female</td>\n",
       "      <td>S</td>\n",
       "      <td>Small Family</td>\n",
       "      <td>Young Adult</td>\n",
       "      <td>High Fare</td>\n",
       "    </tr>\n",
       "    <tr>\n",
       "      <th>4</th>\n",
       "      <td>0</td>\n",
       "      <td>3</td>\n",
       "      <td>male</td>\n",
       "      <td>S</td>\n",
       "      <td>Single</td>\n",
       "      <td>Young Adult</td>\n",
       "      <td>Low Fare</td>\n",
       "    </tr>\n",
       "  </tbody>\n",
       "</table>\n",
       "</div>"
      ],
      "text/plain": [
       "   Survived  Pclass     Sex Embarked   Family_Size   Age_Bucket Fare_Bucket\n",
       "0         0       3    male        S  Small Family  Young Adult    Low Fare\n",
       "1         1       1  female        C  Small Family  Young Adult   High Fare\n",
       "2         1       3  female        S        Single  Young Adult    Low Fare\n",
       "3         1       1  female        S  Small Family  Young Adult   High Fare\n",
       "4         0       3    male        S        Single  Young Adult    Low Fare"
      ]
     },
     "execution_count": 45,
     "metadata": {},
     "output_type": "execute_result"
    }
   ],
   "source": [
    "del clean_training_dataset[\"Fare\"]\n",
    "del clean_training_dataset[\"Age\"]\n",
    "del clean_training_dataset[\"SibSp\"]\n",
    "del clean_training_dataset[\"Parch\"]\n",
    "\n",
    "clean_training_dataset.head()\n"
   ]
  },
  {
   "cell_type": "markdown",
   "id": "c5e0d1ed",
   "metadata": {},
   "source": [
    "## Convert and Scale"
   ]
  },
  {
   "cell_type": "markdown",
   "id": "abb6b3ea",
   "metadata": {},
   "source": [
    "So now we have the data we need and it looks prety good. Next step is to change the data into numerical form for the NN to understand it. \n",
    "\n",
    "To do this we have to represent everything as some numerical form and luckily we hanve Pandas to help with this.\n",
    "\n",
    "__Pandas.getDummies()__ function takes all the categorical features as specified specify and breaks them into category values. \n",
    "\n",
    "Eg. the Sex colmn will be converted to 2 columns where a male is represented by Sex_male= 1 and Sex_female=0 and the Pclass column will be broken into 3 columns\n",
    "\n",
    "We can see this when we run the next cell."
   ]
  },
  {
   "cell_type": "code",
   "execution_count": 46,
   "id": "5df42add",
   "metadata": {
    "ExecuteTime": {
     "end_time": "2022-06-25T12:31:57.891924Z",
     "start_time": "2022-06-25T12:31:57.879756Z"
    },
    "cell_style": "center"
   },
   "outputs": [
    {
     "data": {
      "text/html": [
       "<div>\n",
       "<style scoped>\n",
       "    .dataframe tbody tr th:only-of-type {\n",
       "        vertical-align: middle;\n",
       "    }\n",
       "\n",
       "    .dataframe tbody tr th {\n",
       "        vertical-align: top;\n",
       "    }\n",
       "\n",
       "    .dataframe thead th {\n",
       "        text-align: right;\n",
       "    }\n",
       "</style>\n",
       "<table border=\"1\" class=\"dataframe\">\n",
       "  <thead>\n",
       "    <tr style=\"text-align: right;\">\n",
       "      <th></th>\n",
       "      <th>Survived</th>\n",
       "      <th>Pclass_2</th>\n",
       "      <th>Pclass_3</th>\n",
       "      <th>Sex_male</th>\n",
       "      <th>Embarked_Q</th>\n",
       "      <th>Embarked_S</th>\n",
       "      <th>Family_Size_Single</th>\n",
       "      <th>Family_Size_Small Family</th>\n",
       "      <th>Family_Size_Standard Family</th>\n",
       "      <th>Age_Bucket_Mature Age</th>\n",
       "      <th>Age_Bucket_Senior</th>\n",
       "      <th>Age_Bucket_Teen</th>\n",
       "      <th>Age_Bucket_Young Adult</th>\n",
       "      <th>Fare_Bucket_High Fare</th>\n",
       "      <th>Fare_Bucket_Highest Fare</th>\n",
       "      <th>Fare_Bucket_Low Fare</th>\n",
       "      <th>Fare_Bucket_Standard Fare</th>\n",
       "    </tr>\n",
       "  </thead>\n",
       "  <tbody>\n",
       "    <tr>\n",
       "      <th>0</th>\n",
       "      <td>0</td>\n",
       "      <td>0</td>\n",
       "      <td>1</td>\n",
       "      <td>1</td>\n",
       "      <td>0</td>\n",
       "      <td>1</td>\n",
       "      <td>0</td>\n",
       "      <td>1</td>\n",
       "      <td>0</td>\n",
       "      <td>0</td>\n",
       "      <td>0</td>\n",
       "      <td>0</td>\n",
       "      <td>1</td>\n",
       "      <td>0</td>\n",
       "      <td>0</td>\n",
       "      <td>1</td>\n",
       "      <td>0</td>\n",
       "    </tr>\n",
       "    <tr>\n",
       "      <th>1</th>\n",
       "      <td>1</td>\n",
       "      <td>0</td>\n",
       "      <td>0</td>\n",
       "      <td>0</td>\n",
       "      <td>0</td>\n",
       "      <td>0</td>\n",
       "      <td>0</td>\n",
       "      <td>1</td>\n",
       "      <td>0</td>\n",
       "      <td>0</td>\n",
       "      <td>0</td>\n",
       "      <td>0</td>\n",
       "      <td>1</td>\n",
       "      <td>1</td>\n",
       "      <td>0</td>\n",
       "      <td>0</td>\n",
       "      <td>0</td>\n",
       "    </tr>\n",
       "    <tr>\n",
       "      <th>2</th>\n",
       "      <td>1</td>\n",
       "      <td>0</td>\n",
       "      <td>1</td>\n",
       "      <td>0</td>\n",
       "      <td>0</td>\n",
       "      <td>1</td>\n",
       "      <td>1</td>\n",
       "      <td>0</td>\n",
       "      <td>0</td>\n",
       "      <td>0</td>\n",
       "      <td>0</td>\n",
       "      <td>0</td>\n",
       "      <td>1</td>\n",
       "      <td>0</td>\n",
       "      <td>0</td>\n",
       "      <td>1</td>\n",
       "      <td>0</td>\n",
       "    </tr>\n",
       "    <tr>\n",
       "      <th>3</th>\n",
       "      <td>1</td>\n",
       "      <td>0</td>\n",
       "      <td>0</td>\n",
       "      <td>0</td>\n",
       "      <td>0</td>\n",
       "      <td>1</td>\n",
       "      <td>0</td>\n",
       "      <td>1</td>\n",
       "      <td>0</td>\n",
       "      <td>0</td>\n",
       "      <td>0</td>\n",
       "      <td>0</td>\n",
       "      <td>1</td>\n",
       "      <td>1</td>\n",
       "      <td>0</td>\n",
       "      <td>0</td>\n",
       "      <td>0</td>\n",
       "    </tr>\n",
       "    <tr>\n",
       "      <th>4</th>\n",
       "      <td>0</td>\n",
       "      <td>0</td>\n",
       "      <td>1</td>\n",
       "      <td>1</td>\n",
       "      <td>0</td>\n",
       "      <td>1</td>\n",
       "      <td>1</td>\n",
       "      <td>0</td>\n",
       "      <td>0</td>\n",
       "      <td>0</td>\n",
       "      <td>0</td>\n",
       "      <td>0</td>\n",
       "      <td>1</td>\n",
       "      <td>0</td>\n",
       "      <td>0</td>\n",
       "      <td>1</td>\n",
       "      <td>0</td>\n",
       "    </tr>\n",
       "  </tbody>\n",
       "</table>\n",
       "</div>"
      ],
      "text/plain": [
       "   Survived  Pclass_2  Pclass_3  Sex_male  Embarked_Q  Embarked_S  \\\n",
       "0         0         0         1         1           0           1   \n",
       "1         1         0         0         0           0           0   \n",
       "2         1         0         1         0           0           1   \n",
       "3         1         0         0         0           0           1   \n",
       "4         0         0         1         1           0           1   \n",
       "\n",
       "   Family_Size_Single  Family_Size_Small Family  Family_Size_Standard Family  \\\n",
       "0                   0                         1                            0   \n",
       "1                   0                         1                            0   \n",
       "2                   1                         0                            0   \n",
       "3                   0                         1                            0   \n",
       "4                   1                         0                            0   \n",
       "\n",
       "   Age_Bucket_Mature Age  Age_Bucket_Senior  Age_Bucket_Teen  \\\n",
       "0                      0                  0                0   \n",
       "1                      0                  0                0   \n",
       "2                      0                  0                0   \n",
       "3                      0                  0                0   \n",
       "4                      0                  0                0   \n",
       "\n",
       "   Age_Bucket_Young Adult  Fare_Bucket_High Fare  Fare_Bucket_Highest Fare  \\\n",
       "0                       1                      0                         0   \n",
       "1                       1                      1                         0   \n",
       "2                       1                      0                         0   \n",
       "3                       1                      1                         0   \n",
       "4                       1                      0                         0   \n",
       "\n",
       "   Fare_Bucket_Low Fare  Fare_Bucket_Standard Fare  \n",
       "0                     1                          0  \n",
       "1                     0                          0  \n",
       "2                     1                          0  \n",
       "3                     0                          0  \n",
       "4                     1                          0  "
      ]
     },
     "execution_count": 46,
     "metadata": {},
     "output_type": "execute_result"
    }
   ],
   "source": [
    "train_X = pd.get_dummies(clean_training_dataset, columns=[\"Pclass\", \"Sex\", \"Embarked\", \"Family_Size\", \"Age_Bucket\", \"Fare_Bucket\"],\n",
    "                                    prefix_sep=[\"_\",\"_\",\"_\",\"_\",\"_\",\"_\"], drop_first=True)\n",
    "\n",
    "\n",
    "\n",
    "train_X.head()\n"
   ]
  },
  {
   "cell_type": "markdown",
   "id": "db593810",
   "metadata": {},
   "source": [
    "Almost makes sense. \n",
    "\n",
    "However there seems to be one column missing from each data point mentioned and the reason for this is the _drop_first=True_ attribute that we added to the getDummies function.\n",
    "\n",
    "This attribute when set to true drops the first of each clumn that has been categorised and split and this is done so that redundant columns / data is removed.\n",
    "\n",
    "For example, taking the case of the Sex column, we don't have to specify Sex_male=1 **and** Sex_female=0 for a male. We can simply say that Sex_male=1 implies male and Sex_male=0 implies female. This follows true for all the other category fields as well.\n",
    "\n",
    "This reduces the data data that is needed to be fed into the network making it more effecient. "
   ]
  },
  {
   "cell_type": "markdown",
   "id": "66eab282",
   "metadata": {},
   "source": [
    "Now create the the y value or the output value we need to train the data for:"
   ]
  },
  {
   "cell_type": "code",
   "execution_count": 47,
   "id": "4275cd60",
   "metadata": {
    "ExecuteTime": {
     "end_time": "2022-06-25T12:32:05.474516Z",
     "start_time": "2022-06-25T12:32:05.468627Z"
    }
   },
   "outputs": [
    {
     "data": {
      "text/plain": [
       "0    0\n",
       "1    1\n",
       "2    1\n",
       "3    1\n",
       "4    0\n",
       "Name: Survived, dtype: int64"
      ]
     },
     "execution_count": 47,
     "metadata": {},
     "output_type": "execute_result"
    }
   ],
   "source": [
    "\n",
    "train_y = clean_training_dataset[\"Survived\"]#Survived is what we need\n",
    "\n",
    "del train_X[\"Survived\"]#This can now be removed from the training data.\n",
    "train_y.head()\n"
   ]
  },
  {
   "cell_type": "markdown",
   "id": "b7adb946",
   "metadata": {},
   "source": [
    "Now let's normalise all the training data for the neural network. \n",
    "\n",
    "Normalizing the data generally speeds up learning and leads to faster convergence."
   ]
  },
  {
   "cell_type": "code",
   "execution_count": 68,
   "id": "dc64db85",
   "metadata": {
    "ExecuteTime": {
     "end_time": "2022-06-25T13:59:41.660622Z",
     "start_time": "2022-06-25T13:59:41.655299Z"
    }
   },
   "outputs": [],
   "source": [
    "from sklearn.preprocessing import StandardScaler # \n",
    "\n",
    "#Create a numpy array from the training dataset\n",
    "X = train_X.values\n",
    "y = train_y.values\n",
    "sc = StandardScaler()\n",
    "\n",
    "X = sc.fit_transform(X)"
   ]
  },
  {
   "cell_type": "markdown",
   "id": "7af065e3",
   "metadata": {},
   "source": [
    "## Unseen Data\n",
    "\n",
    "We now need to load the unseen data or more specifically the data we are going to check our model with.\n",
    "\n"
   ]
  },
  {
   "cell_type": "markdown",
   "id": "5045c21f",
   "metadata": {},
   "source": [
    "Now we load he data we want to predict (unseen data). After this we i should be checked / ensured that all preprocessing and data cleaning stages are performed.\n",
    "\n",
    "This done exactly the same as the training data."
   ]
  },
  {
   "cell_type": "code",
   "execution_count": 51,
   "id": "f47acc40",
   "metadata": {
    "ExecuteTime": {
     "end_time": "2022-06-25T12:47:31.535755Z",
     "start_time": "2022-06-25T12:47:31.515060Z"
    }
   },
   "outputs": [
    {
     "data": {
      "text/html": [
       "<div>\n",
       "<style scoped>\n",
       "    .dataframe tbody tr th:only-of-type {\n",
       "        vertical-align: middle;\n",
       "    }\n",
       "\n",
       "    .dataframe tbody tr th {\n",
       "        vertical-align: top;\n",
       "    }\n",
       "\n",
       "    .dataframe thead th {\n",
       "        text-align: right;\n",
       "    }\n",
       "</style>\n",
       "<table border=\"1\" class=\"dataframe\">\n",
       "  <thead>\n",
       "    <tr style=\"text-align: right;\">\n",
       "      <th></th>\n",
       "      <th>PassengerId</th>\n",
       "      <th>Pclass</th>\n",
       "      <th>Name</th>\n",
       "      <th>Sex</th>\n",
       "      <th>Age</th>\n",
       "      <th>SibSp</th>\n",
       "      <th>Parch</th>\n",
       "      <th>Ticket</th>\n",
       "      <th>Fare</th>\n",
       "      <th>Cabin</th>\n",
       "      <th>Embarked</th>\n",
       "    </tr>\n",
       "  </thead>\n",
       "  <tbody>\n",
       "    <tr>\n",
       "      <th>0</th>\n",
       "      <td>892</td>\n",
       "      <td>3</td>\n",
       "      <td>Kelly, Mr. James</td>\n",
       "      <td>male</td>\n",
       "      <td>34.5</td>\n",
       "      <td>0</td>\n",
       "      <td>0</td>\n",
       "      <td>330911</td>\n",
       "      <td>7.8292</td>\n",
       "      <td>NaN</td>\n",
       "      <td>Q</td>\n",
       "    </tr>\n",
       "    <tr>\n",
       "      <th>1</th>\n",
       "      <td>893</td>\n",
       "      <td>3</td>\n",
       "      <td>Wilkes, Mrs. James (Ellen Needs)</td>\n",
       "      <td>female</td>\n",
       "      <td>47.0</td>\n",
       "      <td>1</td>\n",
       "      <td>0</td>\n",
       "      <td>363272</td>\n",
       "      <td>7.0000</td>\n",
       "      <td>NaN</td>\n",
       "      <td>S</td>\n",
       "    </tr>\n",
       "    <tr>\n",
       "      <th>2</th>\n",
       "      <td>894</td>\n",
       "      <td>2</td>\n",
       "      <td>Myles, Mr. Thomas Francis</td>\n",
       "      <td>male</td>\n",
       "      <td>62.0</td>\n",
       "      <td>0</td>\n",
       "      <td>0</td>\n",
       "      <td>240276</td>\n",
       "      <td>9.6875</td>\n",
       "      <td>NaN</td>\n",
       "      <td>Q</td>\n",
       "    </tr>\n",
       "    <tr>\n",
       "      <th>3</th>\n",
       "      <td>895</td>\n",
       "      <td>3</td>\n",
       "      <td>Wirz, Mr. Albert</td>\n",
       "      <td>male</td>\n",
       "      <td>27.0</td>\n",
       "      <td>0</td>\n",
       "      <td>0</td>\n",
       "      <td>315154</td>\n",
       "      <td>8.6625</td>\n",
       "      <td>NaN</td>\n",
       "      <td>S</td>\n",
       "    </tr>\n",
       "    <tr>\n",
       "      <th>4</th>\n",
       "      <td>896</td>\n",
       "      <td>3</td>\n",
       "      <td>Hirvonen, Mrs. Alexander (Helga E Lindqvist)</td>\n",
       "      <td>female</td>\n",
       "      <td>22.0</td>\n",
       "      <td>1</td>\n",
       "      <td>1</td>\n",
       "      <td>3101298</td>\n",
       "      <td>12.2875</td>\n",
       "      <td>NaN</td>\n",
       "      <td>S</td>\n",
       "    </tr>\n",
       "  </tbody>\n",
       "</table>\n",
       "</div>"
      ],
      "text/plain": [
       "   PassengerId  Pclass                                          Name     Sex  \\\n",
       "0          892       3                              Kelly, Mr. James    male   \n",
       "1          893       3              Wilkes, Mrs. James (Ellen Needs)  female   \n",
       "2          894       2                     Myles, Mr. Thomas Francis    male   \n",
       "3          895       3                              Wirz, Mr. Albert    male   \n",
       "4          896       3  Hirvonen, Mrs. Alexander (Helga E Lindqvist)  female   \n",
       "\n",
       "    Age  SibSp  Parch   Ticket     Fare Cabin Embarked  \n",
       "0  34.5      0      0   330911   7.8292   NaN        Q  \n",
       "1  47.0      1      0   363272   7.0000   NaN        S  \n",
       "2  62.0      0      0   240276   9.6875   NaN        Q  \n",
       "3  27.0      0      0   315154   8.6625   NaN        S  \n",
       "4  22.0      1      1  3101298  12.2875   NaN        S  "
      ]
     },
     "execution_count": 51,
     "metadata": {},
     "output_type": "execute_result"
    }
   ],
   "source": [
    "#Load the unseen data\n",
    "unseen_data_df = pd.read_csv(\"datasets/titanic/test.csv\")\n",
    "unseen_data_df.head()"
   ]
  },
  {
   "cell_type": "code",
   "execution_count": 52,
   "id": "14b046cc",
   "metadata": {
    "ExecuteTime": {
     "end_time": "2022-06-25T12:47:37.630826Z",
     "start_time": "2022-06-25T12:47:37.627004Z"
    }
   },
   "outputs": [
    {
     "data": {
      "text/plain": [
       "PassengerId      0\n",
       "Pclass           0\n",
       "Name             0\n",
       "Sex              0\n",
       "Age             86\n",
       "SibSp            0\n",
       "Parch            0\n",
       "Ticket           0\n",
       "Fare             1\n",
       "Cabin          327\n",
       "Embarked         0\n",
       "dtype: int64"
      ]
     },
     "execution_count": 52,
     "metadata": {},
     "output_type": "execute_result"
    }
   ],
   "source": [
    "unseen_data_df.isna().sum()"
   ]
  },
  {
   "cell_type": "code",
   "execution_count": 56,
   "id": "e7e86182",
   "metadata": {
    "ExecuteTime": {
     "end_time": "2022-06-25T13:08:50.175070Z",
     "start_time": "2022-06-25T13:08:50.154200Z"
    }
   },
   "outputs": [
    {
     "data": {
      "text/html": [
       "<div>\n",
       "<style scoped>\n",
       "    .dataframe tbody tr th:only-of-type {\n",
       "        vertical-align: middle;\n",
       "    }\n",
       "\n",
       "    .dataframe tbody tr th {\n",
       "        vertical-align: top;\n",
       "    }\n",
       "\n",
       "    .dataframe thead th {\n",
       "        text-align: right;\n",
       "    }\n",
       "</style>\n",
       "<table border=\"1\" class=\"dataframe\">\n",
       "  <thead>\n",
       "    <tr style=\"text-align: right;\">\n",
       "      <th></th>\n",
       "      <th>Pclass</th>\n",
       "      <th>Sex</th>\n",
       "      <th>SibSp</th>\n",
       "      <th>Parch</th>\n",
       "      <th>Fare</th>\n",
       "      <th>Age</th>\n",
       "      <th>Embarked</th>\n",
       "      <th>Age_Bucket</th>\n",
       "      <th>Fare_Bucket</th>\n",
       "      <th>Family_Size</th>\n",
       "    </tr>\n",
       "  </thead>\n",
       "  <tbody>\n",
       "    <tr>\n",
       "      <th>0</th>\n",
       "      <td>3</td>\n",
       "      <td>male</td>\n",
       "      <td>0</td>\n",
       "      <td>0</td>\n",
       "      <td>7.8292</td>\n",
       "      <td>34.5</td>\n",
       "      <td>Q</td>\n",
       "      <td>Young Adult</td>\n",
       "      <td>Low Fare</td>\n",
       "      <td>Single</td>\n",
       "    </tr>\n",
       "    <tr>\n",
       "      <th>1</th>\n",
       "      <td>3</td>\n",
       "      <td>female</td>\n",
       "      <td>1</td>\n",
       "      <td>0</td>\n",
       "      <td>7.0000</td>\n",
       "      <td>47.0</td>\n",
       "      <td>S</td>\n",
       "      <td>Mature Age</td>\n",
       "      <td>Low Fare</td>\n",
       "      <td>Small Family</td>\n",
       "    </tr>\n",
       "    <tr>\n",
       "      <th>2</th>\n",
       "      <td>2</td>\n",
       "      <td>male</td>\n",
       "      <td>0</td>\n",
       "      <td>0</td>\n",
       "      <td>9.6875</td>\n",
       "      <td>62.0</td>\n",
       "      <td>Q</td>\n",
       "      <td>Senior</td>\n",
       "      <td>Low Fare</td>\n",
       "      <td>Single</td>\n",
       "    </tr>\n",
       "    <tr>\n",
       "      <th>3</th>\n",
       "      <td>3</td>\n",
       "      <td>male</td>\n",
       "      <td>0</td>\n",
       "      <td>0</td>\n",
       "      <td>8.6625</td>\n",
       "      <td>27.0</td>\n",
       "      <td>S</td>\n",
       "      <td>Young Adult</td>\n",
       "      <td>Low Fare</td>\n",
       "      <td>Single</td>\n",
       "    </tr>\n",
       "    <tr>\n",
       "      <th>4</th>\n",
       "      <td>3</td>\n",
       "      <td>female</td>\n",
       "      <td>1</td>\n",
       "      <td>1</td>\n",
       "      <td>12.2875</td>\n",
       "      <td>22.0</td>\n",
       "      <td>S</td>\n",
       "      <td>Young Adult</td>\n",
       "      <td>Cheap Fare</td>\n",
       "      <td>Small Family</td>\n",
       "    </tr>\n",
       "  </tbody>\n",
       "</table>\n",
       "</div>"
      ],
      "text/plain": [
       "   Pclass     Sex  SibSp  Parch     Fare   Age Embarked   Age_Bucket  \\\n",
       "0       3    male      0      0   7.8292  34.5        Q  Young Adult   \n",
       "1       3  female      1      0   7.0000  47.0        S   Mature Age   \n",
       "2       2    male      0      0   9.6875  62.0        Q       Senior   \n",
       "3       3    male      0      0   8.6625  27.0        S  Young Adult   \n",
       "4       3  female      1      1  12.2875  22.0        S  Young Adult   \n",
       "\n",
       "  Fare_Bucket   Family_Size  \n",
       "0    Low Fare        Single  \n",
       "1    Low Fare  Small Family  \n",
       "2    Low Fare        Single  \n",
       "3    Low Fare        Single  \n",
       "4  Cheap Fare  Small Family  "
      ]
     },
     "execution_count": 56,
     "metadata": {},
     "output_type": "execute_result"
    }
   ],
   "source": [
    "clean_unseen_df = perform_preprocessing(unseen_data_df)\n",
    "\n",
    "\n",
    "clean_unseen_df[\"Age_Bucket\"] = create_age_buckets(clean_unseen_df[\"Age\"]) \n",
    "clean_unseen_df[\"Fare_Bucket\"] = create_fare_buckets(clean_unseen_df[\"Fare\"])\n",
    "clean_unseen_df[\"Family_Size\"] = create_family_size_category(clean_unseen_df)\n",
    "\n",
    "clean_unseen_df.head()\n",
    "#unseen_data_fare_cleaned = unseen_data_df[\"Fare\"].fillna(unseen_data_df[\"Fare\"].median())\n",
    "#unseen_data_age_cleaned = unseen_data_df[\"Age\"].fillna(unseen_data_df[\"Age\"].mean())"
   ]
  },
  {
   "cell_type": "code",
   "execution_count": 140,
   "id": "8995314b",
   "metadata": {
    "ExecuteTime": {
     "end_time": "2022-06-25T14:44:34.509593Z",
     "start_time": "2022-06-25T14:44:34.475451Z"
    }
   },
   "outputs": [
    {
     "ename": "KeyError",
     "evalue": "'Fare'",
     "output_type": "error",
     "traceback": [
      "\u001b[0;31m---------------------------------------------------------------------------\u001b[0m",
      "\u001b[0;31mKeyError\u001b[0m                                  Traceback (most recent call last)",
      "\u001b[0;32m/usr/local/lib/python3.6/dist-packages/pandas/core/indexes/base.py\u001b[0m in \u001b[0;36mget_loc\u001b[0;34m(self, key, method, tolerance)\u001b[0m\n\u001b[1;32m   2897\u001b[0m             \u001b[0;32mtry\u001b[0m\u001b[0;34m:\u001b[0m\u001b[0;34m\u001b[0m\u001b[0;34m\u001b[0m\u001b[0m\n\u001b[0;32m-> 2898\u001b[0;31m                 \u001b[0;32mreturn\u001b[0m \u001b[0mself\u001b[0m\u001b[0;34m.\u001b[0m\u001b[0m_engine\u001b[0m\u001b[0;34m.\u001b[0m\u001b[0mget_loc\u001b[0m\u001b[0;34m(\u001b[0m\u001b[0mcasted_key\u001b[0m\u001b[0;34m)\u001b[0m\u001b[0;34m\u001b[0m\u001b[0;34m\u001b[0m\u001b[0m\n\u001b[0m\u001b[1;32m   2899\u001b[0m             \u001b[0;32mexcept\u001b[0m \u001b[0mKeyError\u001b[0m \u001b[0;32mas\u001b[0m \u001b[0merr\u001b[0m\u001b[0;34m:\u001b[0m\u001b[0;34m\u001b[0m\u001b[0;34m\u001b[0m\u001b[0m\n",
      "\u001b[0;32mpandas/_libs/index.pyx\u001b[0m in \u001b[0;36mpandas._libs.index.IndexEngine.get_loc\u001b[0;34m()\u001b[0m\n",
      "\u001b[0;32mpandas/_libs/index.pyx\u001b[0m in \u001b[0;36mpandas._libs.index.IndexEngine.get_loc\u001b[0;34m()\u001b[0m\n",
      "\u001b[0;32mpandas/_libs/hashtable_class_helper.pxi\u001b[0m in \u001b[0;36mpandas._libs.hashtable.PyObjectHashTable.get_item\u001b[0;34m()\u001b[0m\n",
      "\u001b[0;32mpandas/_libs/hashtable_class_helper.pxi\u001b[0m in \u001b[0;36mpandas._libs.hashtable.PyObjectHashTable.get_item\u001b[0;34m()\u001b[0m\n",
      "\u001b[0;31mKeyError\u001b[0m: 'Fare'",
      "\nThe above exception was the direct cause of the following exception:\n",
      "\u001b[0;31mKeyError\u001b[0m                                  Traceback (most recent call last)",
      "\u001b[0;32m<ipython-input-140-141706710691>\u001b[0m in \u001b[0;36m<module>\u001b[0;34m\u001b[0m\n\u001b[0;32m----> 1\u001b[0;31m \u001b[0;32mdel\u001b[0m \u001b[0mclean_unseen_df\u001b[0m\u001b[0;34m[\u001b[0m\u001b[0;34m\"Fare\"\u001b[0m\u001b[0;34m]\u001b[0m\u001b[0;34m\u001b[0m\u001b[0;34m\u001b[0m\u001b[0m\n\u001b[0m\u001b[1;32m      2\u001b[0m \u001b[0;32mdel\u001b[0m \u001b[0mclean_unseen_df\u001b[0m\u001b[0;34m[\u001b[0m\u001b[0;34m\"Age\"\u001b[0m\u001b[0;34m]\u001b[0m\u001b[0;34m\u001b[0m\u001b[0;34m\u001b[0m\u001b[0m\n\u001b[1;32m      3\u001b[0m \u001b[0;32mdel\u001b[0m \u001b[0mclean_unseen_df\u001b[0m\u001b[0;34m[\u001b[0m\u001b[0;34m\"SibSp\"\u001b[0m\u001b[0;34m]\u001b[0m\u001b[0;34m\u001b[0m\u001b[0;34m\u001b[0m\u001b[0m\n\u001b[1;32m      4\u001b[0m \u001b[0;32mdel\u001b[0m \u001b[0mclean_unseen_df\u001b[0m\u001b[0;34m[\u001b[0m\u001b[0;34m\"Parch\"\u001b[0m\u001b[0;34m]\u001b[0m\u001b[0;34m\u001b[0m\u001b[0;34m\u001b[0m\u001b[0m\n\u001b[1;32m      5\u001b[0m \u001b[0;34m\u001b[0m\u001b[0m\n",
      "\u001b[0;32m/usr/local/lib/python3.6/dist-packages/pandas/core/generic.py\u001b[0m in \u001b[0;36m__delitem__\u001b[0;34m(self, key)\u001b[0m\n\u001b[1;32m   3711\u001b[0m             \u001b[0;31m# there was no match, this call should raise the appropriate\u001b[0m\u001b[0;34m\u001b[0m\u001b[0;34m\u001b[0m\u001b[0;34m\u001b[0m\u001b[0m\n\u001b[1;32m   3712\u001b[0m             \u001b[0;31m# exception:\u001b[0m\u001b[0;34m\u001b[0m\u001b[0;34m\u001b[0m\u001b[0;34m\u001b[0m\u001b[0m\n\u001b[0;32m-> 3713\u001b[0;31m             \u001b[0mloc\u001b[0m \u001b[0;34m=\u001b[0m \u001b[0mself\u001b[0m\u001b[0;34m.\u001b[0m\u001b[0maxes\u001b[0m\u001b[0;34m[\u001b[0m\u001b[0;34m-\u001b[0m\u001b[0;36m1\u001b[0m\u001b[0;34m]\u001b[0m\u001b[0;34m.\u001b[0m\u001b[0mget_loc\u001b[0m\u001b[0;34m(\u001b[0m\u001b[0mkey\u001b[0m\u001b[0;34m)\u001b[0m\u001b[0;34m\u001b[0m\u001b[0;34m\u001b[0m\u001b[0m\n\u001b[0m\u001b[1;32m   3714\u001b[0m             \u001b[0mself\u001b[0m\u001b[0;34m.\u001b[0m\u001b[0m_mgr\u001b[0m\u001b[0;34m.\u001b[0m\u001b[0midelete\u001b[0m\u001b[0;34m(\u001b[0m\u001b[0mloc\u001b[0m\u001b[0;34m)\u001b[0m\u001b[0;34m\u001b[0m\u001b[0;34m\u001b[0m\u001b[0m\n\u001b[1;32m   3715\u001b[0m \u001b[0;34m\u001b[0m\u001b[0m\n",
      "\u001b[0;32m/usr/local/lib/python3.6/dist-packages/pandas/core/indexes/base.py\u001b[0m in \u001b[0;36mget_loc\u001b[0;34m(self, key, method, tolerance)\u001b[0m\n\u001b[1;32m   2898\u001b[0m                 \u001b[0;32mreturn\u001b[0m \u001b[0mself\u001b[0m\u001b[0;34m.\u001b[0m\u001b[0m_engine\u001b[0m\u001b[0;34m.\u001b[0m\u001b[0mget_loc\u001b[0m\u001b[0;34m(\u001b[0m\u001b[0mcasted_key\u001b[0m\u001b[0;34m)\u001b[0m\u001b[0;34m\u001b[0m\u001b[0;34m\u001b[0m\u001b[0m\n\u001b[1;32m   2899\u001b[0m             \u001b[0;32mexcept\u001b[0m \u001b[0mKeyError\u001b[0m \u001b[0;32mas\u001b[0m \u001b[0merr\u001b[0m\u001b[0;34m:\u001b[0m\u001b[0;34m\u001b[0m\u001b[0;34m\u001b[0m\u001b[0m\n\u001b[0;32m-> 2900\u001b[0;31m                 \u001b[0;32mraise\u001b[0m \u001b[0mKeyError\u001b[0m\u001b[0;34m(\u001b[0m\u001b[0mkey\u001b[0m\u001b[0;34m)\u001b[0m \u001b[0;32mfrom\u001b[0m \u001b[0merr\u001b[0m\u001b[0;34m\u001b[0m\u001b[0;34m\u001b[0m\u001b[0m\n\u001b[0m\u001b[1;32m   2901\u001b[0m \u001b[0;34m\u001b[0m\u001b[0m\n\u001b[1;32m   2902\u001b[0m         \u001b[0;32mif\u001b[0m \u001b[0mtolerance\u001b[0m \u001b[0;32mis\u001b[0m \u001b[0;32mnot\u001b[0m \u001b[0;32mNone\u001b[0m\u001b[0;34m:\u001b[0m\u001b[0;34m\u001b[0m\u001b[0;34m\u001b[0m\u001b[0m\n",
      "\u001b[0;31mKeyError\u001b[0m: 'Fare'"
     ]
    }
   ],
   "source": [
    "del clean_unseen_df[\"Fare\"]\n",
    "del clean_unseen_df[\"Age\"]\n",
    "del clean_unseen_df[\"SibSp\"]\n",
    "del clean_unseen_df[\"Parch\"]\n",
    "\n",
    "test_X = pd.get_dummies(clean_unseen_df, columns=[\"Pclass\", \"Sex\", \"Family_Size\", \"Embarked\",\"Age_Bucket\", \"Fare_Bucket\"],\n",
    "                                    prefix_sep=[\"_\",\"_\",\"_\",\"_\",\"_\",\"_\"], drop_first=True)\n",
    "\n",
    "\n",
    "\n",
    "test_X.head()\n"
   ]
  },
  {
   "cell_type": "code",
   "execution_count": 58,
   "id": "aebf7b30",
   "metadata": {
    "ExecuteTime": {
     "end_time": "2022-06-25T13:11:36.321475Z",
     "start_time": "2022-06-25T13:11:36.317142Z"
    }
   },
   "outputs": [],
   "source": [
    "testX = test_X.values\n",
    "testX = testX.astype(np.float64, copy=False)"
   ]
  },
  {
   "cell_type": "code",
   "execution_count": 61,
   "id": "b87da5bf",
   "metadata": {
    "ExecuteTime": {
     "end_time": "2022-06-25T13:12:19.394479Z",
     "start_time": "2022-06-25T13:12:19.381783Z"
    }
   },
   "outputs": [
    {
     "data": {
      "text/plain": [
       "(891, 16)"
      ]
     },
     "execution_count": 61,
     "metadata": {},
     "output_type": "execute_result"
    },
    {
     "data": {
      "text/plain": [
       "(418, 16)"
      ]
     },
     "execution_count": 61,
     "metadata": {},
     "output_type": "execute_result"
    }
   ],
   "source": [
    "testX = sc.fit_transform(testX)\n",
    "\n",
    "X.shape\n",
    "testX.shape"
   ]
  },
  {
   "cell_type": "markdown",
   "id": "36b6c647",
   "metadata": {},
   "source": [
    "So now everything looks good and the unseen data is in the same shape and format as the training data. The next step is to create the model."
   ]
  },
  {
   "cell_type": "markdown",
   "id": "fd67cb8a",
   "metadata": {},
   "source": [
    "<h1><center>Neural Network Development</center></h1>"
   ]
  },
  {
   "cell_type": "markdown",
   "id": "e0c0b9ba",
   "metadata": {},
   "source": [
    "## Overview\n",
    "\n",
    "We now need to develop an _artificial neural network_ which can learn with the training data and predict with a the probablity of survival with a reasonable degree of accuracy.\n",
    "\n",
    "Without getting into the nitty gritty of neral networks we need to create:\n",
    "\n",
    "<ul>\n",
    "    <li>The Input layer - This will be the layer that takes the input </li>\n",
    "    <li>Output Layer - The final layer that gives us the prbablity of survival </li>\n",
    "    <li>Hidden Layers - An arbitrary number of layers which have nodes and wieights that can be altered/trained</li>\n",
    "</ul>\n",
    "\n",
    "These will be combined together to create a neural network\n",
    "\n",
    "We also need to make choices for:\n",
    "\n",
    "<ul>\n",
    "    <li>Activation Function</li>\n",
    "    <li>Loss Function</li>\n",
    "    <li>Optimizer</li>\n",
    "\n",
    "</ul>\n",
    "\n"
   ]
  },
  {
   "cell_type": "code",
   "execution_count": 64,
   "id": "206100c9",
   "metadata": {
    "ExecuteTime": {
     "end_time": "2022-06-25T13:31:23.737841Z",
     "start_time": "2022-06-25T13:31:23.734094Z"
    }
   },
   "outputs": [],
   "source": [
    "import tensorflow as tf\n",
    "import keras\n",
    "from keras.models import Sequential\n",
    "from keras.layers import Dense, Activation, Dropout, Input\n",
    "from keras.optimizers import SGD\n",
    "from keras.callbacks import EarlyStopping"
   ]
  },
  {
   "cell_type": "code",
   "execution_count": 65,
   "id": "ee2545d1",
   "metadata": {
    "ExecuteTime": {
     "end_time": "2022-06-25T13:31:25.002836Z",
     "start_time": "2022-06-25T13:31:24.997782Z"
    }
   },
   "outputs": [
    {
     "name": "stdout",
     "output_type": "stream",
     "text": [
      "Tensorflow version: 2.2.0\n",
      "Keras version: 2.4.3\n"
     ]
    }
   ],
   "source": [
    "# Debug checking\n",
    "print(\"Tensorflow version: \" + tf.__version__)\n",
    "print(\"Keras version: \"  + keras.__version__)"
   ]
  },
  {
   "cell_type": "markdown",
   "id": "a1ae965d",
   "metadata": {},
   "source": [
    "Whilst a full theory on Keras and Tensorflow is out of scope here, the following section/code is commented to give as much detail as possible.\n",
    "\n",
    "The architecture chosen was that of:\n",
    "\n",
    "<ul>\n",
    "    <li>2 Hidden Layers</li>\n",
    "    <li>RELU activation function</li>\n",
    "    <li>2 Dropout layers</li>\n",
    "    <li>2 Hidden Layers</li>\n",
    "    <li>Output layer with Sigmoid activation</li>\n",
    "    <li>Stochastic Gradient Descent for Optimizer</li>\n",
    "    <li>Loss Function - Binary Crossentropy</li>\n",
    "</ul>\n",
    "\n",
    "This is just one example of an architecure that worked for us. There are many ways to develop different NN architectures (and/or different hyperparameters that can be tuned).\n"
   ]
  },
  {
   "cell_type": "markdown",
   "id": "27a1fbe5",
   "metadata": {},
   "source": [
    "## Model Creation\n",
    "\n",
    "Now we implement the architecture."
   ]
  },
  {
   "cell_type": "code",
   "execution_count": 66,
   "id": "c7e483cc",
   "metadata": {
    "ExecuteTime": {
     "end_time": "2022-06-25T13:45:24.099484Z",
     "start_time": "2022-06-25T13:41:48.096768Z"
    }
   },
   "outputs": [
    {
     "name": "stdout",
     "output_type": "stream",
     "text": [
      "Model: \"sequential\"\n",
      "_________________________________________________________________\n",
      "Layer (type)                 Output Shape              Param #   \n",
      "=================================================================\n",
      "dense (Dense)                (None, 32)                544       \n",
      "_________________________________________________________________\n",
      "dropout (Dropout)            (None, 32)                0         \n",
      "_________________________________________________________________\n",
      "dense_1 (Dense)              (None, 64)                2112      \n",
      "_________________________________________________________________\n",
      "dropout_1 (Dropout)          (None, 64)                0         \n",
      "_________________________________________________________________\n",
      "dense_2 (Dense)              (None, 1)                 65        \n",
      "=================================================================\n",
      "Total params: 2,721\n",
      "Trainable params: 2,721\n",
      "Non-trainable params: 0\n",
      "_________________________________________________________________\n"
     ]
    }
   ],
   "source": [
    "predictive_model = Sequential() # a sequential neural network\n",
    "\n",
    "input_layer = Input(shape=(X.shape[1],)) #the input layer must match the shape of the input\n",
    "\n",
    "hidden_layer_1 = Dense(32, activation=\"relu\", kernel_initializer=\"uniform\") # hidden layer with 32 nodes, relu activation and uniform initialized weights\n",
    "dropout_1 = Dropout(0.5) #droput layer - drop half the nodes - prevents overfitting\n",
    "\n",
    "hidden_layer_2 = Dense(64, activation=\"relu\", kernel_initializer=\"uniform\") \n",
    "dropout_2 = Dropout(0.5)\n",
    "\n",
    "output_layer = Dense(1, kernel_initializer=\"uniform\", activation=\"sigmoid\") #the output layer is a one node layer that gives a probablity\n",
    "\n",
    "#put them all together\n",
    "predictive_model.add(input_layer)\n",
    "predictive_model.add(hidden_layer_1)\n",
    "predictive_model.add(dropout_1)\n",
    "\n",
    "predictive_model.add(hidden_layer_2)\n",
    "predictive_model.add(dropout_2)\n",
    "\n",
    "predictive_model.add(output_layer)\n",
    "\n",
    "predictive_model.summary() #print what it looks like"
   ]
  },
  {
   "cell_type": "markdown",
   "id": "0d36d5fc",
   "metadata": {},
   "source": [
    "## Training\n",
    "\n",
    "The following section shows the training of the simple neural network developed using:\n",
    "\n",
    "**100 Epochs**: An epoch is basicaly when all data has passed therough the network (forward and backward propagation) once\n",
    "\n",
    "and \n",
    "\n",
    "**Batch Size of 50**: The training data is broken up into batches of 50 \n",
    "\n",
    "**Binary Cross Entropy** loss function: As this is a binary classification problem (0 death or 1 for survival) this is a valid choice. "
   ]
  },
  {
   "cell_type": "code",
   "execution_count": 69,
   "id": "5f39a4d9",
   "metadata": {
    "ExecuteTime": {
     "end_time": "2022-06-25T14:01:07.531718Z",
     "start_time": "2022-06-25T13:59:51.007535Z"
    }
   },
   "outputs": [
    {
     "name": "stdout",
     "output_type": "stream",
     "text": [
      "Epoch 1/100\n",
      "15/15 - 0s - loss: 0.6795 - accuracy: 0.5983 - val_loss: 0.6548 - val_accuracy: 0.6425\n",
      "Epoch 2/100\n",
      "15/15 - 0s - loss: 0.6680 - accuracy: 0.6096 - val_loss: 0.6509 - val_accuracy: 0.6425\n",
      "Epoch 3/100\n",
      "15/15 - 0s - loss: 0.6651 - accuracy: 0.6096 - val_loss: 0.6427 - val_accuracy: 0.6425\n",
      "Epoch 4/100\n",
      "15/15 - 0s - loss: 0.6554 - accuracy: 0.6067 - val_loss: 0.6183 - val_accuracy: 0.6425\n",
      "Epoch 5/100\n",
      "15/15 - 0s - loss: 0.6113 - accuracy: 0.6475 - val_loss: 0.5229 - val_accuracy: 0.7989\n",
      "Epoch 6/100\n",
      "15/15 - 0s - loss: 0.5246 - accuracy: 0.7556 - val_loss: 0.4419 - val_accuracy: 0.8045\n",
      "Epoch 7/100\n",
      "15/15 - 0s - loss: 0.5034 - accuracy: 0.7711 - val_loss: 0.4340 - val_accuracy: 0.7989\n",
      "Epoch 8/100\n",
      "15/15 - 0s - loss: 0.4902 - accuracy: 0.7865 - val_loss: 0.4207 - val_accuracy: 0.8101\n",
      "Epoch 9/100\n",
      "15/15 - 0s - loss: 0.4598 - accuracy: 0.7992 - val_loss: 0.4033 - val_accuracy: 0.8268\n",
      "Epoch 10/100\n",
      "15/15 - 0s - loss: 0.4747 - accuracy: 0.7907 - val_loss: 0.4063 - val_accuracy: 0.8101\n",
      "Epoch 11/100\n",
      "15/15 - 0s - loss: 0.4482 - accuracy: 0.8090 - val_loss: 0.3937 - val_accuracy: 0.8212\n",
      "Epoch 12/100\n",
      "15/15 - 0s - loss: 0.4482 - accuracy: 0.8104 - val_loss: 0.3958 - val_accuracy: 0.8324\n",
      "Epoch 13/100\n",
      "15/15 - 0s - loss: 0.4435 - accuracy: 0.8062 - val_loss: 0.4003 - val_accuracy: 0.8101\n",
      "Epoch 14/100\n",
      "15/15 - 0s - loss: 0.4533 - accuracy: 0.8006 - val_loss: 0.3898 - val_accuracy: 0.8268\n",
      "Epoch 15/100\n",
      "15/15 - 0s - loss: 0.4529 - accuracy: 0.7978 - val_loss: 0.3869 - val_accuracy: 0.8268\n",
      "Epoch 16/100\n",
      "15/15 - 0s - loss: 0.4411 - accuracy: 0.8090 - val_loss: 0.3834 - val_accuracy: 0.8324\n",
      "Epoch 17/100\n",
      "15/15 - 0s - loss: 0.4340 - accuracy: 0.8104 - val_loss: 0.3756 - val_accuracy: 0.8436\n",
      "Epoch 18/100\n",
      "15/15 - 0s - loss: 0.4208 - accuracy: 0.8062 - val_loss: 0.3771 - val_accuracy: 0.8380\n",
      "Epoch 19/100\n",
      "15/15 - 0s - loss: 0.4493 - accuracy: 0.8090 - val_loss: 0.3788 - val_accuracy: 0.8492\n",
      "Epoch 20/100\n",
      "15/15 - 0s - loss: 0.4575 - accuracy: 0.7949 - val_loss: 0.3794 - val_accuracy: 0.8492\n",
      "Epoch 21/100\n",
      "15/15 - 0s - loss: 0.4399 - accuracy: 0.8301 - val_loss: 0.3873 - val_accuracy: 0.8492\n",
      "Epoch 22/100\n",
      "15/15 - 0s - loss: 0.4299 - accuracy: 0.8104 - val_loss: 0.3762 - val_accuracy: 0.8268\n",
      "Epoch 23/100\n",
      "15/15 - 0s - loss: 0.4395 - accuracy: 0.8188 - val_loss: 0.3698 - val_accuracy: 0.8492\n",
      "Epoch 24/100\n",
      "15/15 - 0s - loss: 0.4361 - accuracy: 0.8020 - val_loss: 0.3648 - val_accuracy: 0.8436\n",
      "Epoch 25/100\n",
      "15/15 - 0s - loss: 0.4213 - accuracy: 0.8230 - val_loss: 0.3597 - val_accuracy: 0.8492\n",
      "Epoch 26/100\n",
      "15/15 - 0s - loss: 0.4173 - accuracy: 0.8062 - val_loss: 0.3676 - val_accuracy: 0.8380\n",
      "Epoch 27/100\n",
      "15/15 - 0s - loss: 0.4546 - accuracy: 0.8174 - val_loss: 0.3716 - val_accuracy: 0.8547\n",
      "Epoch 28/100\n",
      "15/15 - 0s - loss: 0.4219 - accuracy: 0.8188 - val_loss: 0.3619 - val_accuracy: 0.8436\n",
      "Epoch 29/100\n",
      "15/15 - 0s - loss: 0.4423 - accuracy: 0.8118 - val_loss: 0.3702 - val_accuracy: 0.8492\n",
      "Epoch 30/100\n",
      "15/15 - 0s - loss: 0.4320 - accuracy: 0.8174 - val_loss: 0.3698 - val_accuracy: 0.8324\n",
      "Epoch 31/100\n",
      "15/15 - 0s - loss: 0.4236 - accuracy: 0.8301 - val_loss: 0.3693 - val_accuracy: 0.8492\n"
     ]
    }
   ],
   "source": [
    "callback = EarlyStopping(monitor=\"accuracy\", patience=10) # Stop training early if accuracy does not really change after 10 epochs\n",
    "\n",
    "sgd = SGD(lr=0.1, momentum=0.8)\n",
    "predictive_model.compile(optimizer=sgd, loss=\"binary_crossentropy\", metrics=[\"accuracy\"])\n",
    "\n",
    "#Start training - this may take a minute based on uyour hardware\n",
    "history = predictive_model.fit(X, y, validation_split=0.2, batch_size=50, epochs=100, \n",
    "                               verbose=2, callbacks=[callback])"
   ]
  },
  {
   "cell_type": "code",
   "execution_count": 70,
   "id": "ec31e1cd",
   "metadata": {
    "ExecuteTime": {
     "end_time": "2022-06-25T14:01:20.907099Z",
     "start_time": "2022-06-25T14:01:20.901548Z"
    }
   },
   "outputs": [
    {
     "name": "stdout",
     "output_type": "stream",
     "text": [
      "Stopped early after 31 epochs\n",
      "dict_keys(['loss', 'accuracy', 'val_loss', 'val_accuracy'])\n"
     ]
    }
   ],
   "source": [
    "if len(history.history[\"accuracy\"]) < 100:\n",
    "    print(\"Stopped early after \" + str(len(history.history['accuracy'])) + \" epochs\")\n",
    "\n",
    "print(history.history.keys())"
   ]
  },
  {
   "cell_type": "code",
   "execution_count": 71,
   "id": "8c350bf3",
   "metadata": {
    "ExecuteTime": {
     "end_time": "2022-06-25T14:01:25.614742Z",
     "start_time": "2022-06-25T14:01:25.517364Z"
    }
   },
   "outputs": [
    {
     "data": {
      "text/plain": [
       "[<matplotlib.lines.Line2D at 0x7ffa50246390>]"
      ]
     },
     "execution_count": 71,
     "metadata": {},
     "output_type": "execute_result"
    },
    {
     "data": {
      "text/plain": [
       "[<matplotlib.lines.Line2D at 0x7ffa6004ceb8>]"
      ]
     },
     "execution_count": 71,
     "metadata": {},
     "output_type": "execute_result"
    },
    {
     "data": {
      "text/plain": [
       "Text(0.5, 1.0, 'Model Accuracy')"
      ]
     },
     "execution_count": 71,
     "metadata": {},
     "output_type": "execute_result"
    },
    {
     "data": {
      "text/plain": [
       "Text(0, 0.5, 'Accuracy')"
      ]
     },
     "execution_count": 71,
     "metadata": {},
     "output_type": "execute_result"
    },
    {
     "data": {
      "text/plain": [
       "Text(0.5, 0, 'Epoch')"
      ]
     },
     "execution_count": 71,
     "metadata": {},
     "output_type": "execute_result"
    },
    {
     "data": {
      "text/plain": [
       "<matplotlib.legend.Legend at 0x7ffa50246320>"
      ]
     },
     "execution_count": 71,
     "metadata": {},
     "output_type": "execute_result"
    },
    {
     "data": {
      "image/png": "[encoded data removed]",
      "text/plain": [
       "<Figure size 432x288 with 1 Axes>"
      ]
     },
     "metadata": {
      "needs_background": "light"
     },
     "output_type": "display_data"
    }
   ],
   "source": [
    "plt.plot(history.history['accuracy'])\n",
    "plt.plot(history.history['val_accuracy'])\n",
    "plt.title('Model Accuracy')\n",
    "plt.ylabel('Accuracy')\n",
    "plt.xlabel('Epoch')\n",
    "plt.legend(['train', 'test'], loc='upper left')\n"
   ]
  },
  {
   "cell_type": "markdown",
   "id": "aad1e95d",
   "metadata": {},
   "source": [
    "## Create Sumbmission (Optional)"
   ]
  },
  {
   "cell_type": "code",
   "execution_count": 81,
   "id": "ee2096e1",
   "metadata": {
    "ExecuteTime": {
     "end_time": "2022-06-25T14:10:02.634569Z",
     "start_time": "2022-06-25T14:10:02.587951Z"
    }
   },
   "outputs": [
    {
     "data": {
      "text/html": [
       "<div>\n",
       "<style scoped>\n",
       "    .dataframe tbody tr th:only-of-type {\n",
       "        vertical-align: middle;\n",
       "    }\n",
       "\n",
       "    .dataframe tbody tr th {\n",
       "        vertical-align: top;\n",
       "    }\n",
       "\n",
       "    .dataframe thead th {\n",
       "        text-align: right;\n",
       "    }\n",
       "</style>\n",
       "<table border=\"1\" class=\"dataframe\">\n",
       "  <thead>\n",
       "    <tr style=\"text-align: right;\">\n",
       "      <th></th>\n",
       "      <th>PassengerId</th>\n",
       "      <th>Survived</th>\n",
       "    </tr>\n",
       "  </thead>\n",
       "  <tbody>\n",
       "    <tr>\n",
       "      <th>0</th>\n",
       "      <td>892</td>\n",
       "      <td>0</td>\n",
       "    </tr>\n",
       "    <tr>\n",
       "      <th>1</th>\n",
       "      <td>893</td>\n",
       "      <td>0</td>\n",
       "    </tr>\n",
       "    <tr>\n",
       "      <th>2</th>\n",
       "      <td>894</td>\n",
       "      <td>0</td>\n",
       "    </tr>\n",
       "    <tr>\n",
       "      <th>3</th>\n",
       "      <td>895</td>\n",
       "      <td>0</td>\n",
       "    </tr>\n",
       "    <tr>\n",
       "      <th>4</th>\n",
       "      <td>896</td>\n",
       "      <td>0</td>\n",
       "    </tr>\n",
       "    <tr>\n",
       "      <th>5</th>\n",
       "      <td>897</td>\n",
       "      <td>0</td>\n",
       "    </tr>\n",
       "    <tr>\n",
       "      <th>6</th>\n",
       "      <td>898</td>\n",
       "      <td>1</td>\n",
       "    </tr>\n",
       "    <tr>\n",
       "      <th>7</th>\n",
       "      <td>899</td>\n",
       "      <td>0</td>\n",
       "    </tr>\n",
       "    <tr>\n",
       "      <th>8</th>\n",
       "      <td>900</td>\n",
       "      <td>0</td>\n",
       "    </tr>\n",
       "    <tr>\n",
       "      <th>9</th>\n",
       "      <td>901</td>\n",
       "      <td>0</td>\n",
       "    </tr>\n",
       "    <tr>\n",
       "      <th>10</th>\n",
       "      <td>902</td>\n",
       "      <td>0</td>\n",
       "    </tr>\n",
       "    <tr>\n",
       "      <th>11</th>\n",
       "      <td>903</td>\n",
       "      <td>0</td>\n",
       "    </tr>\n",
       "    <tr>\n",
       "      <th>12</th>\n",
       "      <td>904</td>\n",
       "      <td>1</td>\n",
       "    </tr>\n",
       "    <tr>\n",
       "      <th>13</th>\n",
       "      <td>905</td>\n",
       "      <td>0</td>\n",
       "    </tr>\n",
       "    <tr>\n",
       "      <th>14</th>\n",
       "      <td>906</td>\n",
       "      <td>1</td>\n",
       "    </tr>\n",
       "    <tr>\n",
       "      <th>15</th>\n",
       "      <td>907</td>\n",
       "      <td>1</td>\n",
       "    </tr>\n",
       "    <tr>\n",
       "      <th>16</th>\n",
       "      <td>908</td>\n",
       "      <td>0</td>\n",
       "    </tr>\n",
       "    <tr>\n",
       "      <th>17</th>\n",
       "      <td>909</td>\n",
       "      <td>0</td>\n",
       "    </tr>\n",
       "    <tr>\n",
       "      <th>18</th>\n",
       "      <td>910</td>\n",
       "      <td>0</td>\n",
       "    </tr>\n",
       "    <tr>\n",
       "      <th>19</th>\n",
       "      <td>911</td>\n",
       "      <td>0</td>\n",
       "    </tr>\n",
       "  </tbody>\n",
       "</table>\n",
       "</div>"
      ],
      "text/plain": [
       "    PassengerId  Survived\n",
       "0           892         0\n",
       "1           893         0\n",
       "2           894         0\n",
       "3           895         0\n",
       "4           896         0\n",
       "5           897         0\n",
       "6           898         1\n",
       "7           899         0\n",
       "8           900         0\n",
       "9           901         0\n",
       "10          902         0\n",
       "11          903         0\n",
       "12          904         1\n",
       "13          905         0\n",
       "14          906         1\n",
       "15          907         1\n",
       "16          908         0\n",
       "17          909         0\n",
       "18          910         0\n",
       "19          911         0"
      ]
     },
     "execution_count": 81,
     "metadata": {},
     "output_type": "execute_result"
    }
   ],
   "source": [
    "#optional\n",
    "predictions = predictive_model.predict(testX)\n",
    "submissions = np.rint(predictions)\n",
    "\n",
    "submission_list = []\n",
    "for s in submissions:\n",
    "    submission_list.append(int(s[0]))\n",
    "\n",
    "out = pd.DataFrame({\"PassengerId\": unseen_data_df.PassengerId, \"Survived\":submission_list})\n",
    "\n",
    "out.head(20)\n"
   ]
  },
  {
   "cell_type": "code",
   "execution_count": 82,
   "id": "61089b44",
   "metadata": {
    "ExecuteTime": {
     "end_time": "2022-06-25T14:10:35.797675Z",
     "start_time": "2022-06-25T14:10:35.790020Z"
    }
   },
   "outputs": [],
   "source": [
    "out.to_csv(\"submission.csv\")"
   ]
  },
  {
   "cell_type": "code",
   "execution_count": 110,
   "id": "f7c0d087",
   "metadata": {
    "ExecuteTime": {
     "end_time": "2022-06-25T14:33:58.458132Z",
     "start_time": "2022-06-25T14:33:58.447326Z"
    }
   },
   "outputs": [
    {
     "name": "stdout",
     "output_type": "stream",
     "text": [
      "<class 'pandas.core.frame.DataFrame'>\n",
      "RangeIndex: 891 entries, 0 to 890\n",
      "Data columns (total 12 columns):\n",
      " #   Column       Non-Null Count  Dtype  \n",
      "---  ------       --------------  -----  \n",
      " 0   PassengerId  891 non-null    int64  \n",
      " 1   Survived     891 non-null    int64  \n",
      " 2   Pclass       891 non-null    int64  \n",
      " 3   Name         891 non-null    object \n",
      " 4   Sex          891 non-null    object \n",
      " 5   Age          714 non-null    float64\n",
      " 6   SibSp        891 non-null    int64  \n",
      " 7   Parch        891 non-null    int64  \n",
      " 8   Ticket       891 non-null    object \n",
      " 9   Fare         891 non-null    float64\n",
      " 10  Cabin        204 non-null    object \n",
      " 11  Embarked     889 non-null    object \n",
      "dtypes: float64(2), int64(5), object(5)\n",
      "memory usage: 83.7+ KB\n"
     ]
    }
   ],
   "source": [
    "training_data.info()"
   ]
  },
  {
   "cell_type": "code",
   "execution_count": 143,
   "id": "1afd3e11",
   "metadata": {
    "ExecuteTime": {
     "end_time": "2022-06-25T14:47:05.860255Z",
     "start_time": "2022-06-25T14:47:05.842007Z"
    }
   },
   "outputs": [
    {
     "data": {
      "text/html": [
       "<div>\n",
       "<style scoped>\n",
       "    .dataframe tbody tr th:only-of-type {\n",
       "        vertical-align: middle;\n",
       "    }\n",
       "\n",
       "    .dataframe tbody tr th {\n",
       "        vertical-align: top;\n",
       "    }\n",
       "\n",
       "    .dataframe thead th {\n",
       "        text-align: right;\n",
       "    }\n",
       "</style>\n",
       "<table border=\"1\" class=\"dataframe\">\n",
       "  <thead>\n",
       "    <tr style=\"text-align: right;\">\n",
       "      <th></th>\n",
       "      <th>Age</th>\n",
       "      <th>Cabin</th>\n",
       "      <th>Embarked</th>\n",
       "      <th>Fare</th>\n",
       "      <th>Name</th>\n",
       "      <th>Parch</th>\n",
       "      <th>Pclass</th>\n",
       "      <th>Sex</th>\n",
       "      <th>SibSp</th>\n",
       "      <th>Ticket</th>\n",
       "    </tr>\n",
       "  </thead>\n",
       "  <tbody>\n",
       "    <tr>\n",
       "      <th>0</th>\n",
       "      <td>15.0</td>\n",
       "      <td>S</td>\n",
       "      <td>Q</td>\n",
       "      <td>8.0292</td>\n",
       "      <td>Tes Pas</td>\n",
       "      <td>0.0</td>\n",
       "      <td>3.0</td>\n",
       "      <td>female</td>\n",
       "      <td>0.0</td>\n",
       "      <td>78.0</td>\n",
       "    </tr>\n",
       "  </tbody>\n",
       "</table>\n",
       "</div>"
      ],
      "text/plain": [
       "    Age Cabin Embarked    Fare     Name  Parch  Pclass     Sex  SibSp  Ticket\n",
       "0  15.0     S        Q  8.0292  Tes Pas    0.0     3.0  female    0.0    78.0"
      ]
     },
     "execution_count": 143,
     "metadata": {},
     "output_type": "execute_result"
    },
    {
     "name": "stdout",
     "output_type": "stream",
     "text": [
      "[-0.51015154  0.90258736 -1.35557354  3.25137334 -1.62380254  0.81192233\n",
      " -0.64713971 -0.28284271 -0.42626003 -0.17337186  2.89464115 -1.31330524\n",
      " -0.36943144 -0.25148722  1.28521816 -0.56568542]\n"
     ]
    }
   ],
   "source": [
    "intuition_df = pd.DataFrame()\n",
    "row = {\"Pclass\": 3, \n",
    "       \"Name\": \"Tes Pas\", \n",
    "       \"Sex\":\"female\", \n",
    "       \"Age\":15, \n",
    "       \"SibSp\":0, \n",
    "       \"Parch\":0, \n",
    "       \"Ticket\":78, \n",
    "       \"Fare\": 8.0292, \n",
    "       \"Cabin\": \"S\", \n",
    "       \"Embarked\": \"Q\"}\n",
    "intuition_df = intuition_df.append(row, ignore_index=True)\n",
    "intuition_df.head()\n",
    "print(X[22])"
   ]
  },
  {
   "cell_type": "code",
   "execution_count": 137,
   "id": "9efb3082",
   "metadata": {
    "ExecuteTime": {
     "end_time": "2022-06-25T14:42:35.588332Z",
     "start_time": "2022-06-25T14:42:35.585636Z"
    }
   },
   "outputs": [
    {
     "name": "stdout",
     "output_type": "stream",
     "text": [
      "0    15.0\n",
      "Name: Age, dtype: float64\n"
     ]
    }
   ],
   "source": [
    "print(i1[\"Age\"])"
   ]
  },
  {
   "cell_type": "code",
   "execution_count": 139,
   "id": "fae30806",
   "metadata": {
    "ExecuteTime": {
     "end_time": "2022-06-25T14:43:15.712802Z",
     "start_time": "2022-06-25T14:43:15.665485Z"
    }
   },
   "outputs": [
    {
     "name": "stdout",
     "output_type": "stream",
     "text": [
      "<class 'pandas.core.frame.DataFrame'>\n",
      "RangeIndex: 1 entries, 0 to 0\n",
      "Data columns (total 10 columns):\n",
      " #   Column                Non-Null Count  Dtype  \n",
      "---  ------                --------------  -----  \n",
      " 0   SibSp                 1 non-null      float64\n",
      " 1   Parch                 1 non-null      float64\n",
      " 2   Fare                  1 non-null      float64\n",
      " 3   Age                   1 non-null      float64\n",
      " 4   Pclass_3.0            1 non-null      uint8  \n",
      " 5   Sex_female            1 non-null      uint8  \n",
      " 6   Family_Size_Single    1 non-null      uint8  \n",
      " 7   Embarked_Q            1 non-null      uint8  \n",
      " 8   Age_Bucket_Teen       1 non-null      uint8  \n",
      " 9   Fare_Bucket_Low Fare  1 non-null      uint8  \n",
      "dtypes: float64(4), uint8(6)\n",
      "memory usage: 166.0 bytes\n"
     ]
    }
   ],
   "source": [
    "\n",
    "\n",
    "#del i1[\"Fare\"]\n",
    "#del i1[\"Age\"]\n",
    "#del i1[\"SibSp\"]\n",
    "#del i1[\"Parch\"]\n",
    "\n",
    "i1.info()\n",
    "\n",
    "\n",
    "\n",
    "#iX.head()\n",
    "#iX.info()"
   ]
  },
  {
   "cell_type": "code",
   "execution_count": null,
   "id": "14939cbd",
   "metadata": {},
   "outputs": [],
   "source": []
  }
 ],
 "metadata": {
  "kernelspec": {
   "display_name": "Python 3",
   "language": "python",
   "name": "python3"
  },
  "language_info": {
   "codemirror_mode": {
    "name": "ipython",
    "version": 3
   },
   "file_extension": ".py",
   "mimetype": "text/x-python",
   "name": "python",
   "nbconvert_exporter": "python",
   "pygments_lexer": "ipython3",
   "version": "3.6.9"
  },
  "latex_envs": {
   "LaTeX_envs_menu_present": true,
   "autoclose": false,
   "autocomplete": true,
   "bibliofile": "biblio.bib",
   "cite_by": "apalike",
   "current_citInitial": 1,
   "eqLabelWithNumbers": true,
   "eqNumInitial": 1,
   "hotkeys": {
    "equation": "Ctrl-E",
    "itemize": "Ctrl-I"
   },
   "labels_anchors": false,
   "latex_user_defs": false,
   "report_style_numbering": false,
   "user_envs_cfg": false
  },
  "toc": {
   "base_numbering": 1,
   "nav_menu": {},
   "number_sections": true,
   "sideBar": true,
   "skip_h1_title": false,
   "title_cell": "Table of Contents",
   "title_sidebar": "Contents",
   "toc_cell": false,
   "toc_position": {
    "height": "calc(100% - 180px)",
    "left": "10px",
    "top": "150px",
    "width": "388.4px"
   },
   "toc_section_display": true,
   "toc_window_display": true
  }
 },
 "nbformat": 4,
 "nbformat_minor": 5
}
