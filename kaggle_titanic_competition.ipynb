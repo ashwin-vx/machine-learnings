{
 "cells": [
  {
   "cell_type": "code",
   "execution_count": null,
   "id": "5f564c35",
   "metadata": {},
   "outputs": [],
   "source": [
    "#Importing usual suspects\n",
    "import pandas as pd # LIbrary to help load and explore data\n",
    "import numpy as np # Library for mathematical functions and support for arrays and matrices\n",
    "\n",
    "from IPython.core.interactiveshell import InteractiveShell\n",
    "InteractiveShell.ast_node_interactivity=\"all\""
   ]
  },
  {
   "cell_type": "code",
   "execution_count": null,
   "id": "3ac1a2ed",
   "metadata": {},
   "outputs": [],
   "source": [
    "training_data = pd.read_csv(\"datasets/titanic/train.csv\") # Load the training data into a dataframe\n",
    "training_data.head(10) # show 10 line preview if brackets are falso just shows 5 as default"
   ]
  },
  {
   "cell_type": "code",
   "execution_count": null,
   "id": "da007a9b",
   "metadata": {},
   "outputs": [],
   "source": [
    "training_data.describe() # Show stats info about data - note only works for numerical value fields"
   ]
  },
  {
   "cell_type": "code",
   "execution_count": null,
   "id": "d177e93f",
   "metadata": {},
   "outputs": [],
   "source": [
    "training_data.info() #Information about the datatypes in the dataframe"
   ]
  },
  {
   "cell_type": "markdown",
   "id": "57bc4885",
   "metadata": {},
   "source": [
    "**Sometimes we will have null values in data sets, let's find these and then work out what to do with them**"
   ]
  },
  {
   "cell_type": "code",
   "execution_count": null,
   "id": "5508e534",
   "metadata": {},
   "outputs": [],
   "source": [
    "training_data.isnull().sum()"
   ]
  },
  {
   "cell_type": "markdown",
   "id": "8fb3916b",
   "metadata": {},
   "source": [
    "**So age, cabin and embarked are null so we should do something with these**\n",
    "1. **Age lets replace with average or median age**\n",
    "2. **Cabin - not sure what to do here but rather than deleting or dropping column lets keep and replace with a dummy value**\n",
    "3. **Embarked - very small amount of nulls so we could probably just take the most common entry**\n",
    "\n",
    "**The above options are probably simple naive replacements but lets do it and see what happens**\n",
    "\n",
    "**_Note that we need to do this to the test set too when we load that - we need to ensure that the test set resembles the training set_**"
   ]
  },
  {
   "cell_type": "code",
   "execution_count": null,
   "id": "a884b39e",
   "metadata": {},
   "outputs": [],
   "source": [
    "median_age_val = training_data[\"Age\"].median() # show the median age\n",
    "f\"Median Age: {median_age_val}\" \n"
   ]
  },
  {
   "cell_type": "code",
   "execution_count": null,
   "id": "2dddd274",
   "metadata": {},
   "outputs": [],
   "source": [
    "mean_age_val = training_data[\"Age\"].mean() # show the average age\n",
    "f\"Mean Age: {mean_age_val}\" "
   ]
  },
  {
   "cell_type": "markdown",
   "id": "2c534ef3",
   "metadata": {},
   "source": [
    "**probably ok to pick either - lets go with mean**"
   ]
  },
  {
   "cell_type": "code",
   "execution_count": null,
   "id": "e4298553",
   "metadata": {},
   "outputs": [],
   "source": [
    "training_data_age_cleaned = training_data[\"Age\"].fillna(training_data[\"Age\"].mean()) # Habit to create intermediate variables - you could use inplace=True as part of the inplace method params but I like to have original and intermediate variables just in case\n",
    "# this is now the age column we will use later\n",
    "training_data_age_cleaned.isna().sum() #same as isnull"
   ]
  },
  {
   "cell_type": "markdown",
   "id": "ec524796",
   "metadata": {},
   "source": [
    "**Looking at cabin we may think that where the cabin was located could have pssible correlated to the survival rate or somthing like that. Since we have no such information lets just replace it with dummy values**"
   ]
  },
  {
   "cell_type": "code",
   "execution_count": null,
   "id": "4277a9c6",
   "metadata": {},
   "outputs": [],
   "source": [
    "training_data_cabin_cleaned = training_data[\"Cabin\"].fillna('DUMMY') #Blanks is also fine\n",
    "\n",
    "#Lets also do the embarked as the most embarked place\n",
    "training_data_embarked_cleaned = training_data[\"Embarked\"].fillna(training_data[\"Embarked\"].mode()[0])\n",
    "training_data_embarked_cleaned.isna().sum()"
   ]
  },
  {
   "cell_type": "markdown",
   "id": "7d54f294",
   "metadata": {},
   "source": [
    "**Now we are going to combine the above for a clean training dataset**"
   ]
  },
  {
   "cell_type": "code",
   "execution_count": null,
   "id": "2d1a660a",
   "metadata": {},
   "outputs": [],
   "source": [
    "#There are a few ways to do this but here we used filter\n",
    "# Wont use passengerId, cabin, Name, ticket or embarked because its a reasonable bet to say this had no real bearing on their mortality\n",
    "# Leaving out age as we will use the one from the cleaned set\n",
    "clean_training_dataset = training_data.filter(['Survived', 'Pclass', 'Sex', 'SibSp', 'Parch', 'Fare'])\n",
    "clean_training_dataset[\"Age\"] = training_data_age_cleaned\n",
    "clean_training_dataset[\"Embarked\"] = training_data_embarked_cleaned\n",
    "\n",
    "clean_training_dataset.head()"
   ]
  },
  {
   "cell_type": "code",
   "execution_count": null,
   "id": "d19f3bec",
   "metadata": {},
   "outputs": [],
   "source": [
    "import matplotlib.pyplot as plt\n",
    "\n",
    "fig, ax1 = plt.subplots(2, 2, figsize=(15,15)) #Create a figure of nrows and ncols\n",
    "\n",
    "\n",
    "survived_df = clean_training_dataset[\"Survived\"]\n",
    "survived_df.value_counts().plot(kind=\"pie\", ax=ax1[0,0])\n",
    "\n",
    "class_df = clean_training_dataset[\"Pclass\"]\n",
    "class_df.value_counts().plot(kind=\"pie\", ax=ax1[0,1])\n",
    "\n",
    "gender_df = clean_training_dataset[\"Sex\"]\n",
    "gender_df.value_counts().plot(kind=\"pie\", ax=ax1[1,0])\n",
    "\n",
    "\n",
    "sibsp_df = clean_training_dataset[\"SibSp\"]\n",
    "sibsp_df.value_counts().plot(kind=\"pie\", ax=ax1[1,1])\n",
    "\n"
   ]
  },
  {
   "cell_type": "code",
   "execution_count": null,
   "id": "4703b136",
   "metadata": {},
   "outputs": [],
   "source": [
    "import seaborn as sns\n",
    "\n",
    "sns.countplot(x=\"Survived\", data=clean_training_dataset)\n"
   ]
  },
  {
   "cell_type": "code",
   "execution_count": null,
   "id": "99059a50",
   "metadata": {},
   "outputs": [],
   "source": [
    "sns.catplot(x=\"Sex\", col=\"Survived\", kind=\"count\", data=clean_training_dataset)"
   ]
  },
  {
   "cell_type": "code",
   "execution_count": null,
   "id": "d6b28182",
   "metadata": {},
   "outputs": [],
   "source": [
    "sns.catplot(x=\"Pclass\", col=\"Survived\", kind=\"count\", data=clean_training_dataset)"
   ]
  },
  {
   "cell_type": "code",
   "execution_count": null,
   "id": "eff52233",
   "metadata": {},
   "outputs": [],
   "source": [
    "sns.catplot(x=\"Embarked\", col=\"Survived\", kind=\"count\", data=clean_training_dataset)"
   ]
  },
  {
   "cell_type": "code",
   "execution_count": null,
   "id": "8d425aec",
   "metadata": {},
   "outputs": [],
   "source": [
    "clean_training_dataset[\"Age\"].max()\n",
    "clean_training_dataset[\"Age\"].min()\n",
    "clean_training_dataset[\"Age\"].mean()"
   ]
  },
  {
   "cell_type": "code",
   "execution_count": null,
   "id": "402250bb",
   "metadata": {},
   "outputs": [],
   "source": [
    "def put_in_age_bucket(age):\n",
    "    \n",
    "    if 0.0 <= age <= 19.99:\n",
    "        return 0\n",
    "    if 20.0 <= age <= 39.99:\n",
    "        return 1\n",
    "    if 40.0 <= age <= 59.00:\n",
    "        return 2\n",
    "    if 60.0 <= age <= 80.00:\n",
    "        return 3\n",
    "\n",
    "\n",
    "def create_age_buckets(age_df):\n",
    "    age_bucket_df = age_df.apply(lambda row: put_in_age_bucket(row))\n",
    "    return age_bucket_df\n",
    "\n",
    "\n",
    "clean_training_dataset[\"Age_Bucket\"] = create_age_buckets(clean_training_dataset[\"Age\"]) \n",
    "clean_training_dataset.head()"
   ]
  },
  {
   "cell_type": "code",
   "execution_count": null,
   "id": "3f1b66ec",
   "metadata": {},
   "outputs": [],
   "source": [
    "sns.catplot(x=\"Age_Bucket\", col=\"Survived\", kind=\"count\", data=clean_training_dataset)"
   ]
  },
  {
   "cell_type": "code",
   "execution_count": null,
   "id": "3a80a5cd",
   "metadata": {},
   "outputs": [],
   "source": [
    "clean_training_dataset[\"Fare\"].max()\n",
    "clean_training_dataset[\"Fare\"].min()\n",
    "clean_training_dataset[\"Fare\"].mean()\n"
   ]
  },
  {
   "cell_type": "code",
   "execution_count": null,
   "id": "3eb7aae3",
   "metadata": {},
   "outputs": [],
   "source": [
    "clean_training_dataset[\"Fare_Band\"] = pd.qcut(clean_training_dataset['Fare'], 4, labels=[1,2,3,4])\n",
    "clean_training_dataset.head()\n",
    "\n",
    "clean_training_dataset[\"Fare_Band\"].value_counts()"
   ]
  },
  {
   "cell_type": "code",
   "execution_count": null,
   "id": "aa436b06",
   "metadata": {},
   "outputs": [],
   "source": [
    "clean_training_dataset[\"Sex\"] = clean_training_dataset[\"Sex\"].map({\"male\":0, \"female\":1})\n",
    "clean_training_dataset[\"Embarked\"] = clean_training_dataset[\"Embarked\"].map({\"S\":0, \"C\":1, \"Q\":2})\n",
    "\n",
    "clean_training_dataset.head()"
   ]
  },
  {
   "cell_type": "code",
   "execution_count": null,
   "id": "2ab0bb98",
   "metadata": {},
   "outputs": [],
   "source": [
    "sns.catplot(x=\"Fare_Band\", col=\"Survived\", kind=\"count\", data=clean_training_dataset)"
   ]
  },
  {
   "cell_type": "code",
   "execution_count": null,
   "id": "5df42add",
   "metadata": {},
   "outputs": [],
   "source": [
    "clean_training_dataset = clean_training_dataset.drop([\"Age\"], axis = 1)\n",
    "\n",
    "clean_training_dataset.head()"
   ]
  },
  {
   "cell_type": "code",
   "execution_count": null,
   "id": "4275cd60",
   "metadata": {},
   "outputs": [],
   "source": [
    "clean_training_dataset = clean_training_dataset.drop([\"Fare\"], axis = 1)\n"
   ]
  },
  {
   "cell_type": "code",
   "execution_count": null,
   "id": "f47acc40",
   "metadata": {},
   "outputs": [],
   "source": [
    "print(clean_training_dataset.head())"
   ]
  },
  {
   "cell_type": "code",
   "execution_count": null,
   "id": "a6a17abe",
   "metadata": {},
   "outputs": [],
   "source": [
    "unseen_data_df = pd.read_csv(\"datasets/titanic/test.csv\")\n"
   ]
  },
  {
   "cell_type": "code",
   "execution_count": null,
   "id": "9d27a856",
   "metadata": {},
   "outputs": [],
   "source": [
    "clean_unseen_df = unseen_data_df.filter(['Pclass', 'Sex', 'SibSp', 'Parch', 'Fare', 'Age', 'Embarked'])\n",
    "\n",
    "clean_unseen_df[\"Age_Bucket\"] = create_age_buckets(clean_unseen_df[\"Age\"]) \n"
   ]
  },
  {
   "cell_type": "code",
   "execution_count": null,
   "id": "8995314b",
   "metadata": {},
   "outputs": [],
   "source": [
    "clean_unseen_df[\"Sex\"] = clean_unseen_df[\"Sex\"].map({\"male\":0, \"female\":1})\n"
   ]
  },
  {
   "cell_type": "code",
   "execution_count": null,
   "id": "256cb555",
   "metadata": {},
   "outputs": [],
   "source": [
    "\n",
    "clean_unseen_df[\"Embarked\"] = clean_unseen_df[\"Embarked\"].map({\"S\":0, \"C\":1, \"Q\":2})\n"
   ]
  },
  {
   "cell_type": "code",
   "execution_count": null,
   "id": "aebf7b30",
   "metadata": {},
   "outputs": [],
   "source": [
    "clean_unseen_df[\"Fare_Band\"] = pd.qcut(clean_unseen_df['Fare'], 4, labels=[1,2,3,4])"
   ]
  },
  {
   "cell_type": "code",
   "execution_count": null,
   "id": "b87da5bf",
   "metadata": {},
   "outputs": [],
   "source": [
    "clean_unseen_df = clean_unseen_df.drop([\"Fare\"], axis = 1)"
   ]
  },
  {
   "cell_type": "code",
   "execution_count": null,
   "id": "206100c9",
   "metadata": {},
   "outputs": [],
   "source": [
    "clean_unseen_df = clean_unseen_df.drop([\"Age\"], axis = 1)\n",
    "clean_unseen_df.head()"
   ]
  },
  {
   "cell_type": "code",
   "execution_count": null,
   "id": "ee2545d1",
   "metadata": {},
   "outputs": [],
   "source": []
  }
 ],
 "metadata": {
  "kernelspec": {
   "display_name": "Python 3 (ipykernel)",
   "language": "python",
   "name": "python3"
  },
  "language_info": {
   "codemirror_mode": {
    "name": "ipython",
    "version": 3
   },
   "file_extension": ".py",
   "mimetype": "text/x-python",
   "name": "python",
   "nbconvert_exporter": "python",
   "pygments_lexer": "ipython3",
   "version": "3.9.12"
  }
 },
 "nbformat": 4,
 "nbformat_minor": 5
}
